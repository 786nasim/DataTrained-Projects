{
 "cells": [
  {
   "cell_type": "markdown",
   "id": "b50d0942",
   "metadata": {},
   "source": [
    "# Titanic Project"
   ]
  },
  {
   "cell_type": "markdown",
   "id": "d750e9e6",
   "metadata": {},
   "source": [
    "# Problem Statement:\n",
    "    \n",
    " The Titanic Problem is based on the sinking of the ‘Unsinkable’ ship Titanic in early 1912. It gives you information about multiple people like their ages, sexes, sibling counts, embarkment points, and whether or not they survived the disaster. Based on these features, you have to predict if an arbitrary passenger on Titanic would survive the sinking or not. "
   ]
  },
  {
   "cell_type": "markdown",
   "id": "c16ba22a",
   "metadata": {},
   "source": [
    "Importing Libraries"
   ]
  },
  {
   "cell_type": "code",
   "execution_count": 28,
   "id": "28ee0752",
   "metadata": {},
   "outputs": [],
   "source": [
    "import pandas as pd\n",
    "import numpy as np\n",
    "import seaborn as sns\n",
    "import matplotlib.pyplot as plt\n",
    "import warnings\n",
    "warnings.filterwarnings(\"ignore\")"
   ]
  },
  {
   "cell_type": "markdown",
   "id": "a968783a",
   "metadata": {},
   "source": [
    "Loading the Datasets"
   ]
  },
  {
   "cell_type": "code",
   "execution_count": 3,
   "id": "bf737b3b",
   "metadata": {},
   "outputs": [
    {
     "data": {
      "text/html": [
       "<div>\n",
       "<style scoped>\n",
       "    .dataframe tbody tr th:only-of-type {\n",
       "        vertical-align: middle;\n",
       "    }\n",
       "\n",
       "    .dataframe tbody tr th {\n",
       "        vertical-align: top;\n",
       "    }\n",
       "\n",
       "    .dataframe thead th {\n",
       "        text-align: right;\n",
       "    }\n",
       "</style>\n",
       "<table border=\"1\" class=\"dataframe\">\n",
       "  <thead>\n",
       "    <tr style=\"text-align: right;\">\n",
       "      <th></th>\n",
       "      <th>PassengerId</th>\n",
       "      <th>Survived</th>\n",
       "      <th>Pclass</th>\n",
       "      <th>Name</th>\n",
       "      <th>Sex</th>\n",
       "      <th>Age</th>\n",
       "      <th>SibSp</th>\n",
       "      <th>Parch</th>\n",
       "      <th>Ticket</th>\n",
       "      <th>Fare</th>\n",
       "      <th>Cabin</th>\n",
       "      <th>Embarked</th>\n",
       "    </tr>\n",
       "  </thead>\n",
       "  <tbody>\n",
       "    <tr>\n",
       "      <th>0</th>\n",
       "      <td>1</td>\n",
       "      <td>0</td>\n",
       "      <td>3</td>\n",
       "      <td>Braund, Mr. Owen Harris</td>\n",
       "      <td>male</td>\n",
       "      <td>22.0</td>\n",
       "      <td>1</td>\n",
       "      <td>0</td>\n",
       "      <td>A/5 21171</td>\n",
       "      <td>7.2500</td>\n",
       "      <td>NaN</td>\n",
       "      <td>S</td>\n",
       "    </tr>\n",
       "    <tr>\n",
       "      <th>1</th>\n",
       "      <td>2</td>\n",
       "      <td>1</td>\n",
       "      <td>1</td>\n",
       "      <td>Cumings, Mrs. John Bradley (Florence Briggs Th...</td>\n",
       "      <td>female</td>\n",
       "      <td>38.0</td>\n",
       "      <td>1</td>\n",
       "      <td>0</td>\n",
       "      <td>PC 17599</td>\n",
       "      <td>71.2833</td>\n",
       "      <td>C85</td>\n",
       "      <td>C</td>\n",
       "    </tr>\n",
       "    <tr>\n",
       "      <th>2</th>\n",
       "      <td>3</td>\n",
       "      <td>1</td>\n",
       "      <td>3</td>\n",
       "      <td>Heikkinen, Miss. Laina</td>\n",
       "      <td>female</td>\n",
       "      <td>26.0</td>\n",
       "      <td>0</td>\n",
       "      <td>0</td>\n",
       "      <td>STON/O2. 3101282</td>\n",
       "      <td>7.9250</td>\n",
       "      <td>NaN</td>\n",
       "      <td>S</td>\n",
       "    </tr>\n",
       "    <tr>\n",
       "      <th>3</th>\n",
       "      <td>4</td>\n",
       "      <td>1</td>\n",
       "      <td>1</td>\n",
       "      <td>Futrelle, Mrs. Jacques Heath (Lily May Peel)</td>\n",
       "      <td>female</td>\n",
       "      <td>35.0</td>\n",
       "      <td>1</td>\n",
       "      <td>0</td>\n",
       "      <td>113803</td>\n",
       "      <td>53.1000</td>\n",
       "      <td>C123</td>\n",
       "      <td>S</td>\n",
       "    </tr>\n",
       "    <tr>\n",
       "      <th>4</th>\n",
       "      <td>5</td>\n",
       "      <td>0</td>\n",
       "      <td>3</td>\n",
       "      <td>Allen, Mr. William Henry</td>\n",
       "      <td>male</td>\n",
       "      <td>35.0</td>\n",
       "      <td>0</td>\n",
       "      <td>0</td>\n",
       "      <td>373450</td>\n",
       "      <td>8.0500</td>\n",
       "      <td>NaN</td>\n",
       "      <td>S</td>\n",
       "    </tr>\n",
       "    <tr>\n",
       "      <th>...</th>\n",
       "      <td>...</td>\n",
       "      <td>...</td>\n",
       "      <td>...</td>\n",
       "      <td>...</td>\n",
       "      <td>...</td>\n",
       "      <td>...</td>\n",
       "      <td>...</td>\n",
       "      <td>...</td>\n",
       "      <td>...</td>\n",
       "      <td>...</td>\n",
       "      <td>...</td>\n",
       "      <td>...</td>\n",
       "    </tr>\n",
       "    <tr>\n",
       "      <th>886</th>\n",
       "      <td>887</td>\n",
       "      <td>0</td>\n",
       "      <td>2</td>\n",
       "      <td>Montvila, Rev. Juozas</td>\n",
       "      <td>male</td>\n",
       "      <td>27.0</td>\n",
       "      <td>0</td>\n",
       "      <td>0</td>\n",
       "      <td>211536</td>\n",
       "      <td>13.0000</td>\n",
       "      <td>NaN</td>\n",
       "      <td>S</td>\n",
       "    </tr>\n",
       "    <tr>\n",
       "      <th>887</th>\n",
       "      <td>888</td>\n",
       "      <td>1</td>\n",
       "      <td>1</td>\n",
       "      <td>Graham, Miss. Margaret Edith</td>\n",
       "      <td>female</td>\n",
       "      <td>19.0</td>\n",
       "      <td>0</td>\n",
       "      <td>0</td>\n",
       "      <td>112053</td>\n",
       "      <td>30.0000</td>\n",
       "      <td>B42</td>\n",
       "      <td>S</td>\n",
       "    </tr>\n",
       "    <tr>\n",
       "      <th>888</th>\n",
       "      <td>889</td>\n",
       "      <td>0</td>\n",
       "      <td>3</td>\n",
       "      <td>Johnston, Miss. Catherine Helen \"Carrie\"</td>\n",
       "      <td>female</td>\n",
       "      <td>NaN</td>\n",
       "      <td>1</td>\n",
       "      <td>2</td>\n",
       "      <td>W./C. 6607</td>\n",
       "      <td>23.4500</td>\n",
       "      <td>NaN</td>\n",
       "      <td>S</td>\n",
       "    </tr>\n",
       "    <tr>\n",
       "      <th>889</th>\n",
       "      <td>890</td>\n",
       "      <td>1</td>\n",
       "      <td>1</td>\n",
       "      <td>Behr, Mr. Karl Howell</td>\n",
       "      <td>male</td>\n",
       "      <td>26.0</td>\n",
       "      <td>0</td>\n",
       "      <td>0</td>\n",
       "      <td>111369</td>\n",
       "      <td>30.0000</td>\n",
       "      <td>C148</td>\n",
       "      <td>C</td>\n",
       "    </tr>\n",
       "    <tr>\n",
       "      <th>890</th>\n",
       "      <td>891</td>\n",
       "      <td>0</td>\n",
       "      <td>3</td>\n",
       "      <td>Dooley, Mr. Patrick</td>\n",
       "      <td>male</td>\n",
       "      <td>32.0</td>\n",
       "      <td>0</td>\n",
       "      <td>0</td>\n",
       "      <td>370376</td>\n",
       "      <td>7.7500</td>\n",
       "      <td>NaN</td>\n",
       "      <td>Q</td>\n",
       "    </tr>\n",
       "  </tbody>\n",
       "</table>\n",
       "<p>891 rows × 12 columns</p>\n",
       "</div>"
      ],
      "text/plain": [
       "     PassengerId  Survived  Pclass  \\\n",
       "0              1         0       3   \n",
       "1              2         1       1   \n",
       "2              3         1       3   \n",
       "3              4         1       1   \n",
       "4              5         0       3   \n",
       "..           ...       ...     ...   \n",
       "886          887         0       2   \n",
       "887          888         1       1   \n",
       "888          889         0       3   \n",
       "889          890         1       1   \n",
       "890          891         0       3   \n",
       "\n",
       "                                                  Name     Sex   Age  SibSp  \\\n",
       "0                              Braund, Mr. Owen Harris    male  22.0      1   \n",
       "1    Cumings, Mrs. John Bradley (Florence Briggs Th...  female  38.0      1   \n",
       "2                               Heikkinen, Miss. Laina  female  26.0      0   \n",
       "3         Futrelle, Mrs. Jacques Heath (Lily May Peel)  female  35.0      1   \n",
       "4                             Allen, Mr. William Henry    male  35.0      0   \n",
       "..                                                 ...     ...   ...    ...   \n",
       "886                              Montvila, Rev. Juozas    male  27.0      0   \n",
       "887                       Graham, Miss. Margaret Edith  female  19.0      0   \n",
       "888           Johnston, Miss. Catherine Helen \"Carrie\"  female   NaN      1   \n",
       "889                              Behr, Mr. Karl Howell    male  26.0      0   \n",
       "890                                Dooley, Mr. Patrick    male  32.0      0   \n",
       "\n",
       "     Parch            Ticket     Fare Cabin Embarked  \n",
       "0        0         A/5 21171   7.2500   NaN        S  \n",
       "1        0          PC 17599  71.2833   C85        C  \n",
       "2        0  STON/O2. 3101282   7.9250   NaN        S  \n",
       "3        0            113803  53.1000  C123        S  \n",
       "4        0            373450   8.0500   NaN        S  \n",
       "..     ...               ...      ...   ...      ...  \n",
       "886      0            211536  13.0000   NaN        S  \n",
       "887      0            112053  30.0000   B42        S  \n",
       "888      2        W./C. 6607  23.4500   NaN        S  \n",
       "889      0            111369  30.0000  C148        C  \n",
       "890      0            370376   7.7500   NaN        Q  \n",
       "\n",
       "[891 rows x 12 columns]"
      ]
     },
     "execution_count": 3,
     "metadata": {},
     "output_type": "execute_result"
    }
   ],
   "source": [
    "df=pd.read_csv(\"titanic_train.csv\")\n",
    "df"
   ]
  },
  {
   "cell_type": "markdown",
   "id": "0a393480",
   "metadata": {},
   "source": [
    "Checking to 5 rows"
   ]
  },
  {
   "cell_type": "code",
   "execution_count": 4,
   "id": "7724641f",
   "metadata": {},
   "outputs": [
    {
     "data": {
      "text/html": [
       "<div>\n",
       "<style scoped>\n",
       "    .dataframe tbody tr th:only-of-type {\n",
       "        vertical-align: middle;\n",
       "    }\n",
       "\n",
       "    .dataframe tbody tr th {\n",
       "        vertical-align: top;\n",
       "    }\n",
       "\n",
       "    .dataframe thead th {\n",
       "        text-align: right;\n",
       "    }\n",
       "</style>\n",
       "<table border=\"1\" class=\"dataframe\">\n",
       "  <thead>\n",
       "    <tr style=\"text-align: right;\">\n",
       "      <th></th>\n",
       "      <th>PassengerId</th>\n",
       "      <th>Survived</th>\n",
       "      <th>Pclass</th>\n",
       "      <th>Name</th>\n",
       "      <th>Sex</th>\n",
       "      <th>Age</th>\n",
       "      <th>SibSp</th>\n",
       "      <th>Parch</th>\n",
       "      <th>Ticket</th>\n",
       "      <th>Fare</th>\n",
       "      <th>Cabin</th>\n",
       "      <th>Embarked</th>\n",
       "    </tr>\n",
       "  </thead>\n",
       "  <tbody>\n",
       "    <tr>\n",
       "      <th>0</th>\n",
       "      <td>1</td>\n",
       "      <td>0</td>\n",
       "      <td>3</td>\n",
       "      <td>Braund, Mr. Owen Harris</td>\n",
       "      <td>male</td>\n",
       "      <td>22.0</td>\n",
       "      <td>1</td>\n",
       "      <td>0</td>\n",
       "      <td>A/5 21171</td>\n",
       "      <td>7.2500</td>\n",
       "      <td>NaN</td>\n",
       "      <td>S</td>\n",
       "    </tr>\n",
       "    <tr>\n",
       "      <th>1</th>\n",
       "      <td>2</td>\n",
       "      <td>1</td>\n",
       "      <td>1</td>\n",
       "      <td>Cumings, Mrs. John Bradley (Florence Briggs Th...</td>\n",
       "      <td>female</td>\n",
       "      <td>38.0</td>\n",
       "      <td>1</td>\n",
       "      <td>0</td>\n",
       "      <td>PC 17599</td>\n",
       "      <td>71.2833</td>\n",
       "      <td>C85</td>\n",
       "      <td>C</td>\n",
       "    </tr>\n",
       "    <tr>\n",
       "      <th>2</th>\n",
       "      <td>3</td>\n",
       "      <td>1</td>\n",
       "      <td>3</td>\n",
       "      <td>Heikkinen, Miss. Laina</td>\n",
       "      <td>female</td>\n",
       "      <td>26.0</td>\n",
       "      <td>0</td>\n",
       "      <td>0</td>\n",
       "      <td>STON/O2. 3101282</td>\n",
       "      <td>7.9250</td>\n",
       "      <td>NaN</td>\n",
       "      <td>S</td>\n",
       "    </tr>\n",
       "    <tr>\n",
       "      <th>3</th>\n",
       "      <td>4</td>\n",
       "      <td>1</td>\n",
       "      <td>1</td>\n",
       "      <td>Futrelle, Mrs. Jacques Heath (Lily May Peel)</td>\n",
       "      <td>female</td>\n",
       "      <td>35.0</td>\n",
       "      <td>1</td>\n",
       "      <td>0</td>\n",
       "      <td>113803</td>\n",
       "      <td>53.1000</td>\n",
       "      <td>C123</td>\n",
       "      <td>S</td>\n",
       "    </tr>\n",
       "    <tr>\n",
       "      <th>4</th>\n",
       "      <td>5</td>\n",
       "      <td>0</td>\n",
       "      <td>3</td>\n",
       "      <td>Allen, Mr. William Henry</td>\n",
       "      <td>male</td>\n",
       "      <td>35.0</td>\n",
       "      <td>0</td>\n",
       "      <td>0</td>\n",
       "      <td>373450</td>\n",
       "      <td>8.0500</td>\n",
       "      <td>NaN</td>\n",
       "      <td>S</td>\n",
       "    </tr>\n",
       "  </tbody>\n",
       "</table>\n",
       "</div>"
      ],
      "text/plain": [
       "   PassengerId  Survived  Pclass  \\\n",
       "0            1         0       3   \n",
       "1            2         1       1   \n",
       "2            3         1       3   \n",
       "3            4         1       1   \n",
       "4            5         0       3   \n",
       "\n",
       "                                                Name     Sex   Age  SibSp  \\\n",
       "0                            Braund, Mr. Owen Harris    male  22.0      1   \n",
       "1  Cumings, Mrs. John Bradley (Florence Briggs Th...  female  38.0      1   \n",
       "2                             Heikkinen, Miss. Laina  female  26.0      0   \n",
       "3       Futrelle, Mrs. Jacques Heath (Lily May Peel)  female  35.0      1   \n",
       "4                           Allen, Mr. William Henry    male  35.0      0   \n",
       "\n",
       "   Parch            Ticket     Fare Cabin Embarked  \n",
       "0      0         A/5 21171   7.2500   NaN        S  \n",
       "1      0          PC 17599  71.2833   C85        C  \n",
       "2      0  STON/O2. 3101282   7.9250   NaN        S  \n",
       "3      0            113803  53.1000  C123        S  \n",
       "4      0            373450   8.0500   NaN        S  "
      ]
     },
     "execution_count": 4,
     "metadata": {},
     "output_type": "execute_result"
    }
   ],
   "source": [
    "df.head()"
   ]
  },
  {
   "cell_type": "markdown",
   "id": "1f2aaf2d",
   "metadata": {},
   "source": [
    "Checking last 5 rows"
   ]
  },
  {
   "cell_type": "code",
   "execution_count": 5,
   "id": "5f24488d",
   "metadata": {},
   "outputs": [
    {
     "data": {
      "text/html": [
       "<div>\n",
       "<style scoped>\n",
       "    .dataframe tbody tr th:only-of-type {\n",
       "        vertical-align: middle;\n",
       "    }\n",
       "\n",
       "    .dataframe tbody tr th {\n",
       "        vertical-align: top;\n",
       "    }\n",
       "\n",
       "    .dataframe thead th {\n",
       "        text-align: right;\n",
       "    }\n",
       "</style>\n",
       "<table border=\"1\" class=\"dataframe\">\n",
       "  <thead>\n",
       "    <tr style=\"text-align: right;\">\n",
       "      <th></th>\n",
       "      <th>PassengerId</th>\n",
       "      <th>Survived</th>\n",
       "      <th>Pclass</th>\n",
       "      <th>Name</th>\n",
       "      <th>Sex</th>\n",
       "      <th>Age</th>\n",
       "      <th>SibSp</th>\n",
       "      <th>Parch</th>\n",
       "      <th>Ticket</th>\n",
       "      <th>Fare</th>\n",
       "      <th>Cabin</th>\n",
       "      <th>Embarked</th>\n",
       "    </tr>\n",
       "  </thead>\n",
       "  <tbody>\n",
       "    <tr>\n",
       "      <th>886</th>\n",
       "      <td>887</td>\n",
       "      <td>0</td>\n",
       "      <td>2</td>\n",
       "      <td>Montvila, Rev. Juozas</td>\n",
       "      <td>male</td>\n",
       "      <td>27.0</td>\n",
       "      <td>0</td>\n",
       "      <td>0</td>\n",
       "      <td>211536</td>\n",
       "      <td>13.00</td>\n",
       "      <td>NaN</td>\n",
       "      <td>S</td>\n",
       "    </tr>\n",
       "    <tr>\n",
       "      <th>887</th>\n",
       "      <td>888</td>\n",
       "      <td>1</td>\n",
       "      <td>1</td>\n",
       "      <td>Graham, Miss. Margaret Edith</td>\n",
       "      <td>female</td>\n",
       "      <td>19.0</td>\n",
       "      <td>0</td>\n",
       "      <td>0</td>\n",
       "      <td>112053</td>\n",
       "      <td>30.00</td>\n",
       "      <td>B42</td>\n",
       "      <td>S</td>\n",
       "    </tr>\n",
       "    <tr>\n",
       "      <th>888</th>\n",
       "      <td>889</td>\n",
       "      <td>0</td>\n",
       "      <td>3</td>\n",
       "      <td>Johnston, Miss. Catherine Helen \"Carrie\"</td>\n",
       "      <td>female</td>\n",
       "      <td>NaN</td>\n",
       "      <td>1</td>\n",
       "      <td>2</td>\n",
       "      <td>W./C. 6607</td>\n",
       "      <td>23.45</td>\n",
       "      <td>NaN</td>\n",
       "      <td>S</td>\n",
       "    </tr>\n",
       "    <tr>\n",
       "      <th>889</th>\n",
       "      <td>890</td>\n",
       "      <td>1</td>\n",
       "      <td>1</td>\n",
       "      <td>Behr, Mr. Karl Howell</td>\n",
       "      <td>male</td>\n",
       "      <td>26.0</td>\n",
       "      <td>0</td>\n",
       "      <td>0</td>\n",
       "      <td>111369</td>\n",
       "      <td>30.00</td>\n",
       "      <td>C148</td>\n",
       "      <td>C</td>\n",
       "    </tr>\n",
       "    <tr>\n",
       "      <th>890</th>\n",
       "      <td>891</td>\n",
       "      <td>0</td>\n",
       "      <td>3</td>\n",
       "      <td>Dooley, Mr. Patrick</td>\n",
       "      <td>male</td>\n",
       "      <td>32.0</td>\n",
       "      <td>0</td>\n",
       "      <td>0</td>\n",
       "      <td>370376</td>\n",
       "      <td>7.75</td>\n",
       "      <td>NaN</td>\n",
       "      <td>Q</td>\n",
       "    </tr>\n",
       "  </tbody>\n",
       "</table>\n",
       "</div>"
      ],
      "text/plain": [
       "     PassengerId  Survived  Pclass                                      Name  \\\n",
       "886          887         0       2                     Montvila, Rev. Juozas   \n",
       "887          888         1       1              Graham, Miss. Margaret Edith   \n",
       "888          889         0       3  Johnston, Miss. Catherine Helen \"Carrie\"   \n",
       "889          890         1       1                     Behr, Mr. Karl Howell   \n",
       "890          891         0       3                       Dooley, Mr. Patrick   \n",
       "\n",
       "        Sex   Age  SibSp  Parch      Ticket   Fare Cabin Embarked  \n",
       "886    male  27.0      0      0      211536  13.00   NaN        S  \n",
       "887  female  19.0      0      0      112053  30.00   B42        S  \n",
       "888  female   NaN      1      2  W./C. 6607  23.45   NaN        S  \n",
       "889    male  26.0      0      0      111369  30.00  C148        C  \n",
       "890    male  32.0      0      0      370376   7.75   NaN        Q  "
      ]
     },
     "execution_count": 5,
     "metadata": {},
     "output_type": "execute_result"
    }
   ],
   "source": [
    "df.tail()"
   ]
  },
  {
   "cell_type": "markdown",
   "id": "a4787a6d",
   "metadata": {},
   "source": [
    "Checking shape of the dataset-"
   ]
  },
  {
   "cell_type": "code",
   "execution_count": 7,
   "id": "e965d2f2",
   "metadata": {},
   "outputs": [
    {
     "data": {
      "text/plain": [
       "(891, 12)"
      ]
     },
     "execution_count": 7,
     "metadata": {},
     "output_type": "execute_result"
    }
   ],
   "source": [
    "df.shape"
   ]
  },
  {
   "cell_type": "markdown",
   "id": "f7f6d4a8",
   "metadata": {},
   "source": [
    "we have 891 rows and 12 attribute including target attribute.\n",
    "\n",
    "Survived is our target attribute."
   ]
  },
  {
   "cell_type": "markdown",
   "id": "a518d6e2",
   "metadata": {},
   "source": [
    "Checking Columns"
   ]
  },
  {
   "cell_type": "code",
   "execution_count": 9,
   "id": "9a53879d",
   "metadata": {},
   "outputs": [
    {
     "data": {
      "text/plain": [
       "Index(['PassengerId', 'Survived', 'Pclass', 'Name', 'Sex', 'Age', 'SibSp',\n",
       "       'Parch', 'Ticket', 'Fare', 'Cabin', 'Embarked'],\n",
       "      dtype='object')"
      ]
     },
     "execution_count": 9,
     "metadata": {},
     "output_type": "execute_result"
    }
   ],
   "source": [
    "df.columns"
   ]
  },
  {
   "cell_type": "markdown",
   "id": "cc2b8342",
   "metadata": {},
   "source": [
    "Checking Data types"
   ]
  },
  {
   "cell_type": "code",
   "execution_count": 8,
   "id": "8c97fb58",
   "metadata": {},
   "outputs": [
    {
     "data": {
      "text/plain": [
       "PassengerId      int64\n",
       "Survived         int64\n",
       "Pclass           int64\n",
       "Name            object\n",
       "Sex             object\n",
       "Age            float64\n",
       "SibSp            int64\n",
       "Parch            int64\n",
       "Ticket          object\n",
       "Fare           float64\n",
       "Cabin           object\n",
       "Embarked        object\n",
       "dtype: object"
      ]
     },
     "execution_count": 8,
     "metadata": {},
     "output_type": "execute_result"
    }
   ],
   "source": [
    "df.dtypes"
   ]
  },
  {
   "cell_type": "markdown",
   "id": "99b212f3",
   "metadata": {},
   "source": [
    "In our dataset 5 attribute have object datatype.\n",
    "\n",
    "we have 5 attribute of numeric datatype.\n",
    "\n",
    "out of 2 numerical attributes we have Age and fare which have float datatype."
   ]
  },
  {
   "cell_type": "markdown",
   "id": "1b1d4d35",
   "metadata": {},
   "source": [
    "Checking Information"
   ]
  },
  {
   "cell_type": "code",
   "execution_count": 11,
   "id": "da5eac6c",
   "metadata": {
    "scrolled": true
   },
   "outputs": [
    {
     "name": "stdout",
     "output_type": "stream",
     "text": [
      "<class 'pandas.core.frame.DataFrame'>\n",
      "RangeIndex: 891 entries, 0 to 890\n",
      "Data columns (total 12 columns):\n",
      " #   Column       Non-Null Count  Dtype  \n",
      "---  ------       --------------  -----  \n",
      " 0   PassengerId  891 non-null    int64  \n",
      " 1   Survived     891 non-null    int64  \n",
      " 2   Pclass       891 non-null    int64  \n",
      " 3   Name         891 non-null    object \n",
      " 4   Sex          891 non-null    object \n",
      " 5   Age          714 non-null    float64\n",
      " 6   SibSp        891 non-null    int64  \n",
      " 7   Parch        891 non-null    int64  \n",
      " 8   Ticket       891 non-null    object \n",
      " 9   Fare         891 non-null    float64\n",
      " 10  Cabin        204 non-null    object \n",
      " 11  Embarked     889 non-null    object \n",
      "dtypes: float64(2), int64(5), object(5)\n",
      "memory usage: 83.7+ KB\n"
     ]
    }
   ],
   "source": [
    "df.info()"
   ]
  },
  {
   "cell_type": "markdown",
   "id": "40fe80eb",
   "metadata": {},
   "source": [
    "Checking for null values"
   ]
  },
  {
   "cell_type": "code",
   "execution_count": 12,
   "id": "aef0ea38",
   "metadata": {},
   "outputs": [
    {
     "data": {
      "text/plain": [
       "PassengerId      0\n",
       "Survived         0\n",
       "Pclass           0\n",
       "Name             0\n",
       "Sex              0\n",
       "Age            177\n",
       "SibSp            0\n",
       "Parch            0\n",
       "Ticket           0\n",
       "Fare             0\n",
       "Cabin          687\n",
       "Embarked         2\n",
       "dtype: int64"
      ]
     },
     "execution_count": 12,
     "metadata": {},
     "output_type": "execute_result"
    }
   ],
   "source": [
    "df.isnull().sum()"
   ]
  },
  {
   "cell_type": "markdown",
   "id": "2163746d",
   "metadata": {},
   "source": [
    "Null values present in cabin,Embarked and Age columns."
   ]
  },
  {
   "cell_type": "code",
   "execution_count": 13,
   "id": "05d4086f",
   "metadata": {},
   "outputs": [
    {
     "data": {
      "text/plain": [
       "PassengerId    0.000000\n",
       "Survived       0.000000\n",
       "Pclass         0.000000\n",
       "Name           0.000000\n",
       "Sex            0.000000\n",
       "Age            0.198653\n",
       "SibSp          0.000000\n",
       "Parch          0.000000\n",
       "Ticket         0.000000\n",
       "Fare           0.000000\n",
       "Cabin          0.771044\n",
       "Embarked       0.002245\n",
       "dtype: float64"
      ]
     },
     "execution_count": 13,
     "metadata": {},
     "output_type": "execute_result"
    }
   ],
   "source": [
    "#getting percentage of null values present in data\n",
    "df.isnull().mean()"
   ]
  },
  {
   "cell_type": "markdown",
   "id": "34cac14d",
   "metadata": {},
   "source": [
    "Cabin consist 77% of Null Data."
   ]
  },
  {
   "cell_type": "code",
   "execution_count": 14,
   "id": "87d121f9",
   "metadata": {},
   "outputs": [
    {
     "data": {
      "text/plain": [
       "<AxesSubplot:title={'center':'Null values '}>"
      ]
     },
     "execution_count": 14,
     "metadata": {},
     "output_type": "execute_result"
    },
    {
     "data": {
      "image/png": "[encoded data removed]",
      "text/plain": [
       "<Figure size 720x576 with 2 Axes>"
      ]
     },
     "metadata": {
      "needs_background": "light"
     },
     "output_type": "display_data"
    }
   ],
   "source": [
    "#ploting dataset for double check null values\n",
    "plt.figure(figsize=(10,8))\n",
    "plt.title('Null values ',fontsize=16)\n",
    "sns.heatmap(df.isnull())"
   ]
  },
  {
   "cell_type": "markdown",
   "id": "8096d18c",
   "metadata": {},
   "source": [
    "As We can see cabin ,age and embarked contains null values"
   ]
  },
  {
   "cell_type": "markdown",
   "id": "36c9094f",
   "metadata": {},
   "source": [
    "Handling the missing values"
   ]
  },
  {
   "cell_type": "code",
   "execution_count": 15,
   "id": "5187cfe5",
   "metadata": {},
   "outputs": [],
   "source": [
    "df = df.drop(columns='Cabin', axis=1)"
   ]
  },
  {
   "cell_type": "markdown",
   "id": "1a01a33e",
   "metadata": {},
   "source": [
    "Dropping  the “Cabin” column from the data frame as it won’t be of much importance"
   ]
  },
  {
   "cell_type": "code",
   "execution_count": 16,
   "id": "a1cef96d",
   "metadata": {},
   "outputs": [],
   "source": [
    "df['Age'].fillna(df['Age'].mean(), inplace=True)"
   ]
  },
  {
   "cell_type": "markdown",
   "id": "90cc5f55",
   "metadata": {},
   "source": [
    "Replacing the missing values in the “Age” column with the mean value"
   ]
  },
  {
   "cell_type": "code",
   "execution_count": 17,
   "id": "77afc2cf",
   "metadata": {},
   "outputs": [
    {
     "name": "stdout",
     "output_type": "stream",
     "text": [
      "0    S\n",
      "dtype: object\n"
     ]
    }
   ],
   "source": [
    "print(df['Embarked'].mode())"
   ]
  },
  {
   "cell_type": "markdown",
   "id": "7c3d35ae",
   "metadata": {},
   "source": [
    "Finding the mode value of the “Embarked” column as it will have occurred the maximum number of times"
   ]
  },
  {
   "cell_type": "code",
   "execution_count": 18,
   "id": "f335adf3",
   "metadata": {},
   "outputs": [],
   "source": [
    "df['Embarked'].fillna(df['Embarked'].mode()[0], inplace=True)"
   ]
  },
  {
   "cell_type": "markdown",
   "id": "0956ec95",
   "metadata": {},
   "source": [
    "Replacing the missing values in the “Embarked” column with mode value"
   ]
  },
  {
   "cell_type": "code",
   "execution_count": 21,
   "id": "8835c310",
   "metadata": {},
   "outputs": [],
   "source": [
    "## we will drop non significant attributed for our Target Attribute such as passengerID, Name, Ticket.\n",
    "df=df.drop(['PassengerId','Name','Ticket'],axis=1)"
   ]
  },
  {
   "cell_type": "code",
   "execution_count": 24,
   "id": "13bccd72",
   "metadata": {},
   "outputs": [
    {
     "data": {
      "text/html": [
       "<div>\n",
       "<style scoped>\n",
       "    .dataframe tbody tr th:only-of-type {\n",
       "        vertical-align: middle;\n",
       "    }\n",
       "\n",
       "    .dataframe tbody tr th {\n",
       "        vertical-align: top;\n",
       "    }\n",
       "\n",
       "    .dataframe thead th {\n",
       "        text-align: right;\n",
       "    }\n",
       "</style>\n",
       "<table border=\"1\" class=\"dataframe\">\n",
       "  <thead>\n",
       "    <tr style=\"text-align: right;\">\n",
       "      <th></th>\n",
       "      <th>Survived</th>\n",
       "      <th>Pclass</th>\n",
       "      <th>Sex</th>\n",
       "      <th>Age</th>\n",
       "      <th>SibSp</th>\n",
       "      <th>Parch</th>\n",
       "      <th>Fare</th>\n",
       "      <th>Embarked</th>\n",
       "    </tr>\n",
       "  </thead>\n",
       "  <tbody>\n",
       "    <tr>\n",
       "      <th>0</th>\n",
       "      <td>0</td>\n",
       "      <td>3</td>\n",
       "      <td>male</td>\n",
       "      <td>22.000000</td>\n",
       "      <td>1</td>\n",
       "      <td>0</td>\n",
       "      <td>7.2500</td>\n",
       "      <td>S</td>\n",
       "    </tr>\n",
       "    <tr>\n",
       "      <th>1</th>\n",
       "      <td>1</td>\n",
       "      <td>1</td>\n",
       "      <td>female</td>\n",
       "      <td>38.000000</td>\n",
       "      <td>1</td>\n",
       "      <td>0</td>\n",
       "      <td>71.2833</td>\n",
       "      <td>C</td>\n",
       "    </tr>\n",
       "    <tr>\n",
       "      <th>2</th>\n",
       "      <td>1</td>\n",
       "      <td>3</td>\n",
       "      <td>female</td>\n",
       "      <td>26.000000</td>\n",
       "      <td>0</td>\n",
       "      <td>0</td>\n",
       "      <td>7.9250</td>\n",
       "      <td>S</td>\n",
       "    </tr>\n",
       "    <tr>\n",
       "      <th>3</th>\n",
       "      <td>1</td>\n",
       "      <td>1</td>\n",
       "      <td>female</td>\n",
       "      <td>35.000000</td>\n",
       "      <td>1</td>\n",
       "      <td>0</td>\n",
       "      <td>53.1000</td>\n",
       "      <td>S</td>\n",
       "    </tr>\n",
       "    <tr>\n",
       "      <th>4</th>\n",
       "      <td>0</td>\n",
       "      <td>3</td>\n",
       "      <td>male</td>\n",
       "      <td>35.000000</td>\n",
       "      <td>0</td>\n",
       "      <td>0</td>\n",
       "      <td>8.0500</td>\n",
       "      <td>S</td>\n",
       "    </tr>\n",
       "    <tr>\n",
       "      <th>...</th>\n",
       "      <td>...</td>\n",
       "      <td>...</td>\n",
       "      <td>...</td>\n",
       "      <td>...</td>\n",
       "      <td>...</td>\n",
       "      <td>...</td>\n",
       "      <td>...</td>\n",
       "      <td>...</td>\n",
       "    </tr>\n",
       "    <tr>\n",
       "      <th>886</th>\n",
       "      <td>0</td>\n",
       "      <td>2</td>\n",
       "      <td>male</td>\n",
       "      <td>27.000000</td>\n",
       "      <td>0</td>\n",
       "      <td>0</td>\n",
       "      <td>13.0000</td>\n",
       "      <td>S</td>\n",
       "    </tr>\n",
       "    <tr>\n",
       "      <th>887</th>\n",
       "      <td>1</td>\n",
       "      <td>1</td>\n",
       "      <td>female</td>\n",
       "      <td>19.000000</td>\n",
       "      <td>0</td>\n",
       "      <td>0</td>\n",
       "      <td>30.0000</td>\n",
       "      <td>S</td>\n",
       "    </tr>\n",
       "    <tr>\n",
       "      <th>888</th>\n",
       "      <td>0</td>\n",
       "      <td>3</td>\n",
       "      <td>female</td>\n",
       "      <td>29.699118</td>\n",
       "      <td>1</td>\n",
       "      <td>2</td>\n",
       "      <td>23.4500</td>\n",
       "      <td>S</td>\n",
       "    </tr>\n",
       "    <tr>\n",
       "      <th>889</th>\n",
       "      <td>1</td>\n",
       "      <td>1</td>\n",
       "      <td>male</td>\n",
       "      <td>26.000000</td>\n",
       "      <td>0</td>\n",
       "      <td>0</td>\n",
       "      <td>30.0000</td>\n",
       "      <td>C</td>\n",
       "    </tr>\n",
       "    <tr>\n",
       "      <th>890</th>\n",
       "      <td>0</td>\n",
       "      <td>3</td>\n",
       "      <td>male</td>\n",
       "      <td>32.000000</td>\n",
       "      <td>0</td>\n",
       "      <td>0</td>\n",
       "      <td>7.7500</td>\n",
       "      <td>Q</td>\n",
       "    </tr>\n",
       "  </tbody>\n",
       "</table>\n",
       "<p>891 rows × 8 columns</p>\n",
       "</div>"
      ],
      "text/plain": [
       "     Survived  Pclass     Sex        Age  SibSp  Parch     Fare Embarked\n",
       "0           0       3    male  22.000000      1      0   7.2500        S\n",
       "1           1       1  female  38.000000      1      0  71.2833        C\n",
       "2           1       3  female  26.000000      0      0   7.9250        S\n",
       "3           1       1  female  35.000000      1      0  53.1000        S\n",
       "4           0       3    male  35.000000      0      0   8.0500        S\n",
       "..        ...     ...     ...        ...    ...    ...      ...      ...\n",
       "886         0       2    male  27.000000      0      0  13.0000        S\n",
       "887         1       1  female  19.000000      0      0  30.0000        S\n",
       "888         0       3  female  29.699118      1      2  23.4500        S\n",
       "889         1       1    male  26.000000      0      0  30.0000        C\n",
       "890         0       3    male  32.000000      0      0   7.7500        Q\n",
       "\n",
       "[891 rows x 8 columns]"
      ]
     },
     "execution_count": 24,
     "metadata": {},
     "output_type": "execute_result"
    }
   ],
   "source": [
    "df"
   ]
  },
  {
   "cell_type": "markdown",
   "id": "90500136",
   "metadata": {},
   "source": [
    "Check Null Values"
   ]
  },
  {
   "cell_type": "code",
   "execution_count": 22,
   "id": "981f72a6",
   "metadata": {},
   "outputs": [
    {
     "data": {
      "text/plain": [
       "Survived    0\n",
       "Pclass      0\n",
       "Sex         0\n",
       "Age         0\n",
       "SibSp       0\n",
       "Parch       0\n",
       "Fare        0\n",
       "Embarked    0\n",
       "dtype: int64"
      ]
     },
     "execution_count": 22,
     "metadata": {},
     "output_type": "execute_result"
    }
   ],
   "source": [
    "df.isnull().sum()"
   ]
  },
  {
   "cell_type": "code",
   "execution_count": 23,
   "id": "f61c0f6a",
   "metadata": {},
   "outputs": [
    {
     "data": {
      "text/plain": [
       "0"
      ]
     },
     "execution_count": 23,
     "metadata": {},
     "output_type": "execute_result"
    }
   ],
   "source": [
    "df.isnull().sum().sum()"
   ]
  },
  {
   "cell_type": "markdown",
   "id": "6648a316",
   "metadata": {},
   "source": [
    "Missing values sucessfully fill"
   ]
  },
  {
   "cell_type": "markdown",
   "id": "fc71f0a4",
   "metadata": {},
   "source": [
    "Descriptive Analysis"
   ]
  },
  {
   "cell_type": "code",
   "execution_count": 37,
   "id": "0c4edca0",
   "metadata": {},
   "outputs": [
    {
     "data": {
      "text/html": [
       "<div>\n",
       "<style scoped>\n",
       "    .dataframe tbody tr th:only-of-type {\n",
       "        vertical-align: middle;\n",
       "    }\n",
       "\n",
       "    .dataframe tbody tr th {\n",
       "        vertical-align: top;\n",
       "    }\n",
       "\n",
       "    .dataframe thead th {\n",
       "        text-align: right;\n",
       "    }\n",
       "</style>\n",
       "<table border=\"1\" class=\"dataframe\">\n",
       "  <thead>\n",
       "    <tr style=\"text-align: right;\">\n",
       "      <th></th>\n",
       "      <th>count</th>\n",
       "      <th>mean</th>\n",
       "      <th>std</th>\n",
       "      <th>min</th>\n",
       "      <th>25%</th>\n",
       "      <th>50%</th>\n",
       "      <th>75%</th>\n",
       "      <th>max</th>\n",
       "    </tr>\n",
       "  </thead>\n",
       "  <tbody>\n",
       "    <tr>\n",
       "      <th>Survived</th>\n",
       "      <td>891.0</td>\n",
       "      <td>0.383838</td>\n",
       "      <td>0.486592</td>\n",
       "      <td>0.00</td>\n",
       "      <td>0.0000</td>\n",
       "      <td>0.000000</td>\n",
       "      <td>1.0</td>\n",
       "      <td>1.0000</td>\n",
       "    </tr>\n",
       "    <tr>\n",
       "      <th>Pclass</th>\n",
       "      <td>891.0</td>\n",
       "      <td>2.308642</td>\n",
       "      <td>0.836071</td>\n",
       "      <td>1.00</td>\n",
       "      <td>2.0000</td>\n",
       "      <td>3.000000</td>\n",
       "      <td>3.0</td>\n",
       "      <td>3.0000</td>\n",
       "    </tr>\n",
       "    <tr>\n",
       "      <th>Age</th>\n",
       "      <td>891.0</td>\n",
       "      <td>29.699118</td>\n",
       "      <td>13.002015</td>\n",
       "      <td>0.42</td>\n",
       "      <td>22.0000</td>\n",
       "      <td>29.699118</td>\n",
       "      <td>35.0</td>\n",
       "      <td>80.0000</td>\n",
       "    </tr>\n",
       "    <tr>\n",
       "      <th>SibSp</th>\n",
       "      <td>891.0</td>\n",
       "      <td>0.523008</td>\n",
       "      <td>1.102743</td>\n",
       "      <td>0.00</td>\n",
       "      <td>0.0000</td>\n",
       "      <td>0.000000</td>\n",
       "      <td>1.0</td>\n",
       "      <td>8.0000</td>\n",
       "    </tr>\n",
       "    <tr>\n",
       "      <th>Parch</th>\n",
       "      <td>891.0</td>\n",
       "      <td>0.381594</td>\n",
       "      <td>0.806057</td>\n",
       "      <td>0.00</td>\n",
       "      <td>0.0000</td>\n",
       "      <td>0.000000</td>\n",
       "      <td>0.0</td>\n",
       "      <td>6.0000</td>\n",
       "    </tr>\n",
       "    <tr>\n",
       "      <th>Fare</th>\n",
       "      <td>891.0</td>\n",
       "      <td>32.204208</td>\n",
       "      <td>49.693429</td>\n",
       "      <td>0.00</td>\n",
       "      <td>7.9104</td>\n",
       "      <td>14.454200</td>\n",
       "      <td>31.0</td>\n",
       "      <td>512.3292</td>\n",
       "    </tr>\n",
       "  </tbody>\n",
       "</table>\n",
       "</div>"
      ],
      "text/plain": [
       "          count       mean        std   min      25%        50%   75%  \\\n",
       "Survived  891.0   0.383838   0.486592  0.00   0.0000   0.000000   1.0   \n",
       "Pclass    891.0   2.308642   0.836071  1.00   2.0000   3.000000   3.0   \n",
       "Age       891.0  29.699118  13.002015  0.42  22.0000  29.699118  35.0   \n",
       "SibSp     891.0   0.523008   1.102743  0.00   0.0000   0.000000   1.0   \n",
       "Parch     891.0   0.381594   0.806057  0.00   0.0000   0.000000   0.0   \n",
       "Fare      891.0  32.204208  49.693429  0.00   7.9104  14.454200  31.0   \n",
       "\n",
       "               max  \n",
       "Survived    1.0000  \n",
       "Pclass      3.0000  \n",
       "Age        80.0000  \n",
       "SibSp       8.0000  \n",
       "Parch       6.0000  \n",
       "Fare      512.3292  "
      ]
     },
     "execution_count": 37,
     "metadata": {},
     "output_type": "execute_result"
    }
   ],
   "source": [
    "df.describe().transpose()"
   ]
  },
  {
   "cell_type": "markdown",
   "id": "63617e20",
   "metadata": {},
   "source": [
    "Checking Description through heatmap."
   ]
  },
  {
   "cell_type": "code",
   "execution_count": 39,
   "id": "54a3bd0d",
   "metadata": {},
   "outputs": [
    {
     "data": {
      "image/png": "[encoded data removed]",
      "text/plain": [
       "<Figure size 1080x504 with 2 Axes>"
      ]
     },
     "metadata": {
      "needs_background": "light"
     },
     "output_type": "display_data"
    }
   ],
   "source": [
    "plt.figure(figsize=(15,7))\n",
    "sns.heatmap(round(df.describe()[1:].transpose(),2),linewidth=2,annot=True,fmt='f')\n",
    "plt.xticks(fontsize=18)\n",
    "plt.xticks(fontsize=12)\n",
    "plt.title('variables')\n",
    "plt.show()"
   ]
  },
  {
   "cell_type": "markdown",
   "id": "d0b569ba",
   "metadata": {},
   "source": [
    "Data Visualization"
   ]
  },
  {
   "cell_type": "code",
   "execution_count": 29,
   "id": "1f09fbb8",
   "metadata": {},
   "outputs": [
    {
     "data": {
      "text/plain": [
       "<AxesSubplot:title={'center':'Distribution of Target column'}, xlabel='Survived', ylabel='count'>"
      ]
     },
     "execution_count": 29,
     "metadata": {},
     "output_type": "execute_result"
    },
    {
     "data": {
      "image/png": "[encoded data removed]",
      "text/plain": [
       "<Figure size 720x576 with 1 Axes>"
      ]
     },
     "metadata": {
      "needs_background": "light"
     },
     "output_type": "display_data"
    }
   ],
   "source": [
    "plt.figure(figsize=(10,8))\n",
    "plt.title('Distribution of Target column',fontsize=16)\n",
    "sns.countplot(df['Survived'],data=df)"
   ]
  },
  {
   "cell_type": "code",
   "execution_count": 30,
   "id": "14bdf5ae",
   "metadata": {},
   "outputs": [
    {
     "data": {
      "text/plain": [
       "<AxesSubplot:title={'center':'sex value counts'}, xlabel='Sex', ylabel='count'>"
      ]
     },
     "execution_count": 30,
     "metadata": {},
     "output_type": "execute_result"
    },
    {
     "data": {
      "image/png": "[encoded data removed]",
      "text/plain": [
       "<Figure size 720x576 with 1 Axes>"
      ]
     },
     "metadata": {
      "needs_background": "light"
     },
     "output_type": "display_data"
    }
   ],
   "source": [
    "plt.figure(figsize=(10,8))\n",
    "plt.title(\"sex value counts\",fontsize=16)\n",
    "sns.countplot(df['Sex'],data=df)"
   ]
  },
  {
   "cell_type": "markdown",
   "id": "7fa868c5",
   "metadata": {},
   "source": [
    "Number of male passengers are higher than the Female passenger."
   ]
  },
  {
   "cell_type": "code",
   "execution_count": 31,
   "id": "164375c2",
   "metadata": {},
   "outputs": [
    {
     "data": {
      "image/png": "[encoded data removed]",
      "text/plain": [
       "<Figure size 720x576 with 1 Axes>"
      ]
     },
     "metadata": {
      "needs_background": "light"
     },
     "output_type": "display_data"
    }
   ],
   "source": [
    "plt.figure(figsize=(10,8))\n",
    "plt.title('Embarked value counts',fontsize=16)\n",
    "sns.countplot(df['Embarked'],data=df);"
   ]
  },
  {
   "cell_type": "markdown",
   "id": "7ba662df",
   "metadata": {},
   "source": [
    "Most of passengers were get on ship from S"
   ]
  },
  {
   "cell_type": "code",
   "execution_count": 32,
   "id": "f9049ce9",
   "metadata": {},
   "outputs": [
    {
     "data": {
      "image/png": "[encoded data removed]",
      "text/plain": [
       "<Figure size 720x576 with 1 Axes>"
      ]
     },
     "metadata": {
      "needs_background": "light"
     },
     "output_type": "display_data"
    }
   ],
   "source": [
    "plt.figure(figsize=(10,8))\n",
    "plt.title('gender of survived passengers',fontsize=16)\n",
    "sns.countplot(df['Sex'],hue='Survived',data=df);"
   ]
  },
  {
   "cell_type": "markdown",
   "id": "d1f279f3",
   "metadata": {},
   "source": [
    "Mostly female were survived"
   ]
  },
  {
   "cell_type": "code",
   "execution_count": 33,
   "id": "b7481c74",
   "metadata": {},
   "outputs": [
    {
     "data": {
      "image/png": "[encoded data removed]",
      "text/plain": [
       "<Figure size 1080x576 with 1 Axes>"
      ]
     },
     "metadata": {
      "needs_background": "light"
     },
     "output_type": "display_data"
    }
   ],
   "source": [
    "plt.figure(figsize=(15,8))\n",
    "plt.title('Class of Survived Passengers',fontsize=15)\n",
    "sns.countplot(df['Pclass'],hue='Survived',data=df);"
   ]
  },
  {
   "cell_type": "markdown",
   "id": "f1921e51",
   "metadata": {},
   "source": [
    "We can see the wealthy peeps who belongs to class 1 survived mostly peeps who bought ticket of third class died mostly"
   ]
  },
  {
   "cell_type": "code",
   "execution_count": 34,
   "id": "6f9622dd",
   "metadata": {},
   "outputs": [
    {
     "data": {
      "image/png": "[encoded data removed]",
      "text/plain": [
       "<Figure size 1080x576 with 1 Axes>"
      ]
     },
     "metadata": {
      "needs_background": "light"
     },
     "output_type": "display_data"
    }
   ],
   "source": [
    "plt.figure(figsize=(15,8))\n",
    "plt.title('sibling of survived passengers',fontsize=15)\n",
    "sns.countplot(df['SibSp'],hue='Survived',data=df);"
   ]
  },
  {
   "cell_type": "markdown",
   "id": "d64c0e9c",
   "metadata": {},
   "source": [
    "we can see that familes with 0 or one sibs are survived more"
   ]
  },
  {
   "cell_type": "code",
   "execution_count": 35,
   "id": "6a9e5a91",
   "metadata": {
    "scrolled": true
   },
   "outputs": [
    {
     "data": {
      "image/png": "[encoded data removed]",
      "text/plain": [
       "<Figure size 1080x576 with 1 Axes>"
      ]
     },
     "metadata": {
      "needs_background": "light"
     },
     "output_type": "display_data"
    }
   ],
   "source": [
    "plt.figure(figsize=(15,8))\n",
    "plt.title('parents / children aboard the Titanic Survived Passengers',fontsize=15)\n",
    "sns.countplot(df['Parch'],hue='Survived',data=df);"
   ]
  },
  {
   "cell_type": "markdown",
   "id": "08bf11e9",
   "metadata": {},
   "source": [
    "People who travel alone have highest chance for survival."
   ]
  },
  {
   "cell_type": "code",
   "execution_count": 36,
   "id": "abeddf2d",
   "metadata": {},
   "outputs": [
    {
     "data": {
      "text/plain": [
       "<seaborn.axisgrid.PairGrid at 0x1e74e3a5a90>"
      ]
     },
     "execution_count": 36,
     "metadata": {},
     "output_type": "execute_result"
    },
    {
     "data": {
      "image/png": "[encoded data removed]",
      "text/plain": [
       "<Figure size 1080x1080 with 42 Axes>"
      ]
     },
     "metadata": {
      "needs_background": "light"
     },
     "output_type": "display_data"
    }
   ],
   "source": [
    "# ploting pairplot\n",
    "sns.pairplot(df)"
   ]
  },
  {
   "cell_type": "markdown",
   "id": "5a980b45",
   "metadata": {},
   "source": [
    "Checking Normal Data Distribution"
   ]
  },
  {
   "cell_type": "code",
   "execution_count": 40,
   "id": "2026a190",
   "metadata": {},
   "outputs": [
    {
     "data": {
      "image/png": "[encoded data removed]",
      "text/plain": [
       "<Figure size 1008x720 with 6 Axes>"
      ]
     },
     "metadata": {
      "needs_background": "light"
     },
     "output_type": "display_data"
    }
   ],
   "source": [
    "di=df.select_dtypes(exclude='object')\n",
    "plt.figure(figsize=(14,10))\n",
    "plot=1\n",
    "for col in di:\n",
    "    if plot<=13:\n",
    "        plt.subplot(3,3,plot)\n",
    "        sns.distplot(di[col])\n",
    "        plt.xlabel(col)\n",
    "        plot=plot+1\n",
    "plt.show()  "
   ]
  },
  {
   "cell_type": "markdown",
   "id": "d24cc26f",
   "metadata": {},
   "source": [
    "1-Here Survived, Pclass,Sibsp,Parch are encoded labels so we don't need to perform any operation here.\n",
    "\n",
    "2-Age and fare only float datatype in which Age is normally distributed but Fare is Right skewed."
   ]
  },
  {
   "cell_type": "markdown",
   "id": "847204fd",
   "metadata": {},
   "source": [
    "Checking Correlation"
   ]
  },
  {
   "cell_type": "code",
   "execution_count": 41,
   "id": "e3c7f508",
   "metadata": {},
   "outputs": [
    {
     "data": {
      "text/html": [
       "<div>\n",
       "<style scoped>\n",
       "    .dataframe tbody tr th:only-of-type {\n",
       "        vertical-align: middle;\n",
       "    }\n",
       "\n",
       "    .dataframe tbody tr th {\n",
       "        vertical-align: top;\n",
       "    }\n",
       "\n",
       "    .dataframe thead th {\n",
       "        text-align: right;\n",
       "    }\n",
       "</style>\n",
       "<table border=\"1\" class=\"dataframe\">\n",
       "  <thead>\n",
       "    <tr style=\"text-align: right;\">\n",
       "      <th></th>\n",
       "      <th>Survived</th>\n",
       "      <th>Pclass</th>\n",
       "      <th>Age</th>\n",
       "      <th>SibSp</th>\n",
       "      <th>Parch</th>\n",
       "      <th>Fare</th>\n",
       "    </tr>\n",
       "  </thead>\n",
       "  <tbody>\n",
       "    <tr>\n",
       "      <th>Survived</th>\n",
       "      <td>1.000000</td>\n",
       "      <td>-0.338481</td>\n",
       "      <td>-0.069809</td>\n",
       "      <td>-0.035322</td>\n",
       "      <td>0.081629</td>\n",
       "      <td>0.257307</td>\n",
       "    </tr>\n",
       "    <tr>\n",
       "      <th>Pclass</th>\n",
       "      <td>-0.338481</td>\n",
       "      <td>1.000000</td>\n",
       "      <td>-0.331339</td>\n",
       "      <td>0.083081</td>\n",
       "      <td>0.018443</td>\n",
       "      <td>-0.549500</td>\n",
       "    </tr>\n",
       "    <tr>\n",
       "      <th>Age</th>\n",
       "      <td>-0.069809</td>\n",
       "      <td>-0.331339</td>\n",
       "      <td>1.000000</td>\n",
       "      <td>-0.232625</td>\n",
       "      <td>-0.179191</td>\n",
       "      <td>0.091566</td>\n",
       "    </tr>\n",
       "    <tr>\n",
       "      <th>SibSp</th>\n",
       "      <td>-0.035322</td>\n",
       "      <td>0.083081</td>\n",
       "      <td>-0.232625</td>\n",
       "      <td>1.000000</td>\n",
       "      <td>0.414838</td>\n",
       "      <td>0.159651</td>\n",
       "    </tr>\n",
       "    <tr>\n",
       "      <th>Parch</th>\n",
       "      <td>0.081629</td>\n",
       "      <td>0.018443</td>\n",
       "      <td>-0.179191</td>\n",
       "      <td>0.414838</td>\n",
       "      <td>1.000000</td>\n",
       "      <td>0.216225</td>\n",
       "    </tr>\n",
       "    <tr>\n",
       "      <th>Fare</th>\n",
       "      <td>0.257307</td>\n",
       "      <td>-0.549500</td>\n",
       "      <td>0.091566</td>\n",
       "      <td>0.159651</td>\n",
       "      <td>0.216225</td>\n",
       "      <td>1.000000</td>\n",
       "    </tr>\n",
       "  </tbody>\n",
       "</table>\n",
       "</div>"
      ],
      "text/plain": [
       "          Survived    Pclass       Age     SibSp     Parch      Fare\n",
       "Survived  1.000000 -0.338481 -0.069809 -0.035322  0.081629  0.257307\n",
       "Pclass   -0.338481  1.000000 -0.331339  0.083081  0.018443 -0.549500\n",
       "Age      -0.069809 -0.331339  1.000000 -0.232625 -0.179191  0.091566\n",
       "SibSp    -0.035322  0.083081 -0.232625  1.000000  0.414838  0.159651\n",
       "Parch     0.081629  0.018443 -0.179191  0.414838  1.000000  0.216225\n",
       "Fare      0.257307 -0.549500  0.091566  0.159651  0.216225  1.000000"
      ]
     },
     "execution_count": 41,
     "metadata": {},
     "output_type": "execute_result"
    }
   ],
   "source": [
    "df.corr()"
   ]
  },
  {
   "cell_type": "code",
   "execution_count": 42,
   "id": "75c398b8",
   "metadata": {},
   "outputs": [
    {
     "data": {
      "text/plain": [
       "Pclass     -0.338481\n",
       "Age        -0.069809\n",
       "SibSp      -0.035322\n",
       "Parch       0.081629\n",
       "Fare        0.257307\n",
       "Survived    1.000000\n",
       "Name: Survived, dtype: float64"
      ]
     },
     "execution_count": 42,
     "metadata": {},
     "output_type": "execute_result"
    }
   ],
   "source": [
    "df.corr()[\"Survived\"].sort_values()"
   ]
  },
  {
   "cell_type": "markdown",
   "id": "458b8550",
   "metadata": {},
   "source": [
    "Checking Correlation with heatmap"
   ]
  },
  {
   "cell_type": "code",
   "execution_count": 43,
   "id": "95a6efbc",
   "metadata": {},
   "outputs": [
    {
     "data": {
      "text/plain": [
       "<AxesSubplot:>"
      ]
     },
     "execution_count": 43,
     "metadata": {},
     "output_type": "execute_result"
    },
    {
     "data": {
      "image/png": "[encoded data removed]",
      "text/plain": [
       "<Figure size 1080x504 with 2 Axes>"
      ]
     },
     "metadata": {
      "needs_background": "light"
     },
     "output_type": "display_data"
    }
   ],
   "source": [
    "plt.figure(figsize=(15,7))\n",
    "sns.heatmap(df.corr(),annot=True, linewidth=0.5, linecolor='black', fmt='.2f')"
   ]
  },
  {
   "cell_type": "markdown",
   "id": "f175c134",
   "metadata": {},
   "source": [
    "Checking Outliers"
   ]
  },
  {
   "cell_type": "code",
   "execution_count": 47,
   "id": "0b2b88c2",
   "metadata": {},
   "outputs": [
    {
     "data": {
      "image/png": "[encoded data removed]",
      "text/plain": [
       "<Figure size 1008x720 with 6 Axes>"
      ]
     },
     "metadata": {
      "needs_background": "light"
     },
     "output_type": "display_data"
    }
   ],
   "source": [
    "plt.figure(figsize=(14,10))\n",
    "plot=1\n",
    "for col in di:\n",
    "    if plot<=13:\n",
    "        plt.subplot(3,3,plot)\n",
    "        sns.boxplot(di[col])\n",
    "        plt.xlabel(col)\n",
    "        plot=plot+1\n",
    "plt.show()"
   ]
  },
  {
   "cell_type": "markdown",
   "id": "dddc2633",
   "metadata": {},
   "source": [
    "1-Parch,sibSp are categorcial in nature which are encoded in our data so we won't perform any operation here.\n",
    "\n",
    "2-If we see the outliers in Age and fare, We can see that Outliers in Age are very near to the uppper & Lower Whisker.\n",
    "\n",
    "3-We can perform different operations here to handle these outliers."
   ]
  },
  {
   "cell_type": "markdown",
   "id": "44d74262",
   "metadata": {},
   "source": [
    "Removing Outliers"
   ]
  },
  {
   "cell_type": "markdown",
   "id": "3ed1af7f",
   "metadata": {},
   "source": [
    "Zscore method using Scipy"
   ]
  },
  {
   "cell_type": "code",
   "execution_count": 66,
   "id": "fc348d81",
   "metadata": {},
   "outputs": [],
   "source": [
    "from scipy.stats import zscore"
   ]
  },
  {
   "cell_type": "code",
   "execution_count": 70,
   "id": "5be6c69f",
   "metadata": {},
   "outputs": [
    {
     "data": {
      "text/html": [
       "<div>\n",
       "<style scoped>\n",
       "    .dataframe tbody tr th:only-of-type {\n",
       "        vertical-align: middle;\n",
       "    }\n",
       "\n",
       "    .dataframe tbody tr th {\n",
       "        vertical-align: top;\n",
       "    }\n",
       "\n",
       "    .dataframe thead th {\n",
       "        text-align: right;\n",
       "    }\n",
       "</style>\n",
       "<table border=\"1\" class=\"dataframe\">\n",
       "  <thead>\n",
       "    <tr style=\"text-align: right;\">\n",
       "      <th></th>\n",
       "      <th>Survived</th>\n",
       "      <th>Pclass</th>\n",
       "      <th>Sex</th>\n",
       "      <th>Age</th>\n",
       "      <th>SibSp</th>\n",
       "      <th>Parch</th>\n",
       "      <th>Fare</th>\n",
       "      <th>Embarked</th>\n",
       "    </tr>\n",
       "  </thead>\n",
       "  <tbody>\n",
       "    <tr>\n",
       "      <th>0</th>\n",
       "      <td>0</td>\n",
       "      <td>3</td>\n",
       "      <td>male</td>\n",
       "      <td>22.0</td>\n",
       "      <td>1</td>\n",
       "      <td>0</td>\n",
       "      <td>7.2500</td>\n",
       "      <td>S</td>\n",
       "    </tr>\n",
       "    <tr>\n",
       "      <th>1</th>\n",
       "      <td>1</td>\n",
       "      <td>1</td>\n",
       "      <td>female</td>\n",
       "      <td>38.0</td>\n",
       "      <td>1</td>\n",
       "      <td>0</td>\n",
       "      <td>71.2833</td>\n",
       "      <td>C</td>\n",
       "    </tr>\n",
       "    <tr>\n",
       "      <th>2</th>\n",
       "      <td>1</td>\n",
       "      <td>3</td>\n",
       "      <td>female</td>\n",
       "      <td>26.0</td>\n",
       "      <td>0</td>\n",
       "      <td>0</td>\n",
       "      <td>7.9250</td>\n",
       "      <td>S</td>\n",
       "    </tr>\n",
       "    <tr>\n",
       "      <th>3</th>\n",
       "      <td>1</td>\n",
       "      <td>1</td>\n",
       "      <td>female</td>\n",
       "      <td>35.0</td>\n",
       "      <td>1</td>\n",
       "      <td>0</td>\n",
       "      <td>53.1000</td>\n",
       "      <td>S</td>\n",
       "    </tr>\n",
       "    <tr>\n",
       "      <th>4</th>\n",
       "      <td>0</td>\n",
       "      <td>3</td>\n",
       "      <td>male</td>\n",
       "      <td>35.0</td>\n",
       "      <td>0</td>\n",
       "      <td>0</td>\n",
       "      <td>8.0500</td>\n",
       "      <td>S</td>\n",
       "    </tr>\n",
       "  </tbody>\n",
       "</table>\n",
       "</div>"
      ],
      "text/plain": [
       "   Survived  Pclass     Sex   Age  SibSp  Parch     Fare Embarked\n",
       "0         0       3    male  22.0      1      0   7.2500        S\n",
       "1         1       1  female  38.0      1      0  71.2833        C\n",
       "2         1       3  female  26.0      0      0   7.9250        S\n",
       "3         1       1  female  35.0      1      0  53.1000        S\n",
       "4         0       3    male  35.0      0      0   8.0500        S"
      ]
     },
     "execution_count": 70,
     "metadata": {},
     "output_type": "execute_result"
    }
   ],
   "source": [
    "#  Outliers will be removed only from Continuous column variable i.e; Age and Fare. \n",
    "#We will not remove outliers from Categorical column i.e; SibSp, Parch\n",
    "variables = df[['Age','Fare']]\n",
    "z=np.abs(zscore(variables))\n",
    "# Creating new dataframe\n",
    "df_new = df[(z<3).all(axis=1)]\n",
    "df_new.head()"
   ]
  },
  {
   "cell_type": "code",
   "execution_count": 71,
   "id": "b283720f",
   "metadata": {},
   "outputs": [],
   "source": [
    "from sklearn.preprocessing import LabelEncoder\n",
    "le=LabelEncoder()\n",
    "df_new['Sex']=le.fit_transform(df_new['Sex'])\n",
    "df_new['Embarked']=le.fit_transform(df_new['Embarked'])"
   ]
  },
  {
   "cell_type": "code",
   "execution_count": 72,
   "id": "1c5932d1",
   "metadata": {},
   "outputs": [
    {
     "data": {
      "text/html": [
       "<div>\n",
       "<style scoped>\n",
       "    .dataframe tbody tr th:only-of-type {\n",
       "        vertical-align: middle;\n",
       "    }\n",
       "\n",
       "    .dataframe tbody tr th {\n",
       "        vertical-align: top;\n",
       "    }\n",
       "\n",
       "    .dataframe thead th {\n",
       "        text-align: right;\n",
       "    }\n",
       "</style>\n",
       "<table border=\"1\" class=\"dataframe\">\n",
       "  <thead>\n",
       "    <tr style=\"text-align: right;\">\n",
       "      <th></th>\n",
       "      <th>Age</th>\n",
       "      <th>Fare</th>\n",
       "    </tr>\n",
       "  </thead>\n",
       "  <tbody>\n",
       "    <tr>\n",
       "      <th>0</th>\n",
       "      <td>0.592481</td>\n",
       "      <td>0.502445</td>\n",
       "    </tr>\n",
       "    <tr>\n",
       "      <th>1</th>\n",
       "      <td>0.638789</td>\n",
       "      <td>0.786845</td>\n",
       "    </tr>\n",
       "    <tr>\n",
       "      <th>2</th>\n",
       "      <td>0.284663</td>\n",
       "      <td>0.488854</td>\n",
       "    </tr>\n",
       "    <tr>\n",
       "      <th>3</th>\n",
       "      <td>0.407926</td>\n",
       "      <td>0.420730</td>\n",
       "    </tr>\n",
       "    <tr>\n",
       "      <th>4</th>\n",
       "      <td>0.407926</td>\n",
       "      <td>0.486337</td>\n",
       "    </tr>\n",
       "  </tbody>\n",
       "</table>\n",
       "</div>"
      ],
      "text/plain": [
       "        Age      Fare\n",
       "0  0.592481  0.502445\n",
       "1  0.638789  0.786845\n",
       "2  0.284663  0.488854\n",
       "3  0.407926  0.420730\n",
       "4  0.407926  0.486337"
      ]
     },
     "execution_count": 72,
     "metadata": {},
     "output_type": "execute_result"
    }
   ],
   "source": [
    "z.head()"
   ]
  },
  {
   "cell_type": "code",
   "execution_count": 73,
   "id": "b79f8a42",
   "metadata": {},
   "outputs": [
    {
     "data": {
      "text/plain": [
       "27"
      ]
     },
     "execution_count": 73,
     "metadata": {},
     "output_type": "execute_result"
    }
   ],
   "source": [
    "len(np.where(z>3)[0])"
   ]
  },
  {
   "cell_type": "code",
   "execution_count": 74,
   "id": "cfe67237",
   "metadata": {},
   "outputs": [
    {
     "name": "stdout",
     "output_type": "stream",
     "text": [
      "Old DataFrame data in Rows and Column: (891, 8)\n",
      "New DataFrame data in Rows and Column: (864, 8)\n",
      "Total Dropped rows: 27\n"
     ]
    }
   ],
   "source": [
    "print(\"Old DataFrame data in Rows and Column:\",df.shape)\n",
    "print(\"New DataFrame data in Rows and Column:\",df_new.shape)\n",
    "print(\"Total Dropped rows:\",df.shape[0]-df_new.shape[0])"
   ]
  },
  {
   "cell_type": "markdown",
   "id": "ee03f512",
   "metadata": {},
   "source": [
    "Percentage Data Loss using Zscore"
   ]
  },
  {
   "cell_type": "code",
   "execution_count": 75,
   "id": "4dffec86",
   "metadata": {},
   "outputs": [
    {
     "name": "stdout",
     "output_type": "stream",
     "text": [
      "3.0303030303030303 %\n"
     ]
    }
   ],
   "source": [
    "loss_percent=(891-864)/891*100\n",
    "print(loss_percent,\"%\")"
   ]
  },
  {
   "cell_type": "markdown",
   "id": "8a560fea",
   "metadata": {},
   "source": [
    "Checking for the skewness"
   ]
  },
  {
   "cell_type": "code",
   "execution_count": 76,
   "id": "8cecb1c5",
   "metadata": {},
   "outputs": [
    {
     "data": {
      "text/plain": [
       "Survived    0.502011\n",
       "Pclass     -0.708375\n",
       "Sex        -0.632203\n",
       "Age         0.239002\n",
       "SibSp       3.751753\n",
       "Parch       2.840412\n",
       "Fare        2.257178\n",
       "Embarked   -1.328443\n",
       "dtype: float64"
      ]
     },
     "execution_count": 76,
     "metadata": {},
     "output_type": "execute_result"
    }
   ],
   "source": [
    "df_new.skew()"
   ]
  },
  {
   "cell_type": "markdown",
   "id": "8bbdc17c",
   "metadata": {},
   "source": [
    "Data visualization of skewed continuous column using distplot"
   ]
  },
  {
   "cell_type": "code",
   "execution_count": 78,
   "id": "338632f7",
   "metadata": {},
   "outputs": [
    {
     "data": {
      "image/png": "[encoded data removed]",
      "text/plain": [
       "<Figure size 1440x1800 with 3 Axes>"
      ]
     },
     "metadata": {},
     "output_type": "display_data"
    }
   ],
   "source": [
    "collist=[\"SibSp\", \"Parch\", \"Fare\"]\n",
    "plt.figure(figsize=(20,25), facecolor='white')\n",
    "plotnumber = 1\n",
    "\n",
    "for column in df[collist]:\n",
    "    if plotnumber<=9:\n",
    "        ax = plt.subplot(3,3,plotnumber)\n",
    "        sns.distplot(df_new[column])\n",
    "        plt.xlabel(column,fontsize=20)\n",
    "    plotnumber+=1\n",
    "plt.show()"
   ]
  },
  {
   "cell_type": "markdown",
   "id": "b71c4b7d",
   "metadata": {},
   "source": [
    "Removing skewness using yeo-johnson method"
   ]
  },
  {
   "cell_type": "code",
   "execution_count": 79,
   "id": "de81e5ba",
   "metadata": {},
   "outputs": [],
   "source": [
    "from sklearn.preprocessing  import power_transform"
   ]
  },
  {
   "cell_type": "code",
   "execution_count": 80,
   "id": "bce55157",
   "metadata": {},
   "outputs": [
    {
     "data": {
      "text/html": [
       "<div>\n",
       "<style scoped>\n",
       "    .dataframe tbody tr th:only-of-type {\n",
       "        vertical-align: middle;\n",
       "    }\n",
       "\n",
       "    .dataframe tbody tr th {\n",
       "        vertical-align: top;\n",
       "    }\n",
       "\n",
       "    .dataframe thead th {\n",
       "        text-align: right;\n",
       "    }\n",
       "</style>\n",
       "<table border=\"1\" class=\"dataframe\">\n",
       "  <thead>\n",
       "    <tr style=\"text-align: right;\">\n",
       "      <th></th>\n",
       "      <th>SibSp</th>\n",
       "      <th>Parch</th>\n",
       "      <th>Fare</th>\n",
       "    </tr>\n",
       "  </thead>\n",
       "  <tbody>\n",
       "    <tr>\n",
       "      <th>0</th>\n",
       "      <td>1.374574</td>\n",
       "      <td>-0.548637</td>\n",
       "      <td>-0.882769</td>\n",
       "    </tr>\n",
       "    <tr>\n",
       "      <th>1</th>\n",
       "      <td>1.374574</td>\n",
       "      <td>-0.548637</td>\n",
       "      <td>1.529038</td>\n",
       "    </tr>\n",
       "    <tr>\n",
       "      <th>2</th>\n",
       "      <td>-0.680931</td>\n",
       "      <td>-0.548637</td>\n",
       "      <td>-0.792444</td>\n",
       "    </tr>\n",
       "    <tr>\n",
       "      <th>3</th>\n",
       "      <td>1.374574</td>\n",
       "      <td>-0.548637</td>\n",
       "      <td>1.216581</td>\n",
       "    </tr>\n",
       "    <tr>\n",
       "      <th>4</th>\n",
       "      <td>-0.680931</td>\n",
       "      <td>-0.548637</td>\n",
       "      <td>-0.776493</td>\n",
       "    </tr>\n",
       "    <tr>\n",
       "      <th>...</th>\n",
       "      <td>...</td>\n",
       "      <td>...</td>\n",
       "      <td>...</td>\n",
       "    </tr>\n",
       "    <tr>\n",
       "      <th>886</th>\n",
       "      <td>-0.680931</td>\n",
       "      <td>-0.548637</td>\n",
       "      <td>-0.279691</td>\n",
       "    </tr>\n",
       "    <tr>\n",
       "      <th>887</th>\n",
       "      <td>-0.680931</td>\n",
       "      <td>-0.548637</td>\n",
       "      <td>0.607981</td>\n",
       "    </tr>\n",
       "    <tr>\n",
       "      <th>888</th>\n",
       "      <td>1.374574</td>\n",
       "      <td>1.879004</td>\n",
       "      <td>0.345275</td>\n",
       "    </tr>\n",
       "    <tr>\n",
       "      <th>889</th>\n",
       "      <td>-0.680931</td>\n",
       "      <td>-0.548637</td>\n",
       "      <td>0.607981</td>\n",
       "    </tr>\n",
       "    <tr>\n",
       "      <th>890</th>\n",
       "      <td>-0.680931</td>\n",
       "      <td>-0.548637</td>\n",
       "      <td>-0.815167</td>\n",
       "    </tr>\n",
       "  </tbody>\n",
       "</table>\n",
       "<p>864 rows × 3 columns</p>\n",
       "</div>"
      ],
      "text/plain": [
       "        SibSp     Parch      Fare\n",
       "0    1.374574 -0.548637 -0.882769\n",
       "1    1.374574 -0.548637  1.529038\n",
       "2   -0.680931 -0.548637 -0.792444\n",
       "3    1.374574 -0.548637  1.216581\n",
       "4   -0.680931 -0.548637 -0.776493\n",
       "..        ...       ...       ...\n",
       "886 -0.680931 -0.548637 -0.279691\n",
       "887 -0.680931 -0.548637  0.607981\n",
       "888  1.374574  1.879004  0.345275\n",
       "889 -0.680931 -0.548637  0.607981\n",
       "890 -0.680931 -0.548637 -0.815167\n",
       "\n",
       "[864 rows x 3 columns]"
      ]
     },
     "execution_count": 80,
     "metadata": {},
     "output_type": "execute_result"
    }
   ],
   "source": [
    "collist=[\"SibSp\", \"Parch\", \"Fare\"]\n",
    "df_new[collist]=power_transform(df_new[collist],method='yeo-johnson')\n",
    "df_new[collist]"
   ]
  },
  {
   "cell_type": "code",
   "execution_count": 81,
   "id": "ff54705e",
   "metadata": {},
   "outputs": [
    {
     "data": {
      "text/plain": [
       "Survived    0.502011\n",
       "Pclass     -0.708375\n",
       "Sex        -0.632203\n",
       "Age         0.239002\n",
       "SibSp       0.805038\n",
       "Parch       1.277888\n",
       "Fare       -0.009095\n",
       "Embarked   -1.328443\n",
       "dtype: float64"
      ]
     },
     "execution_count": 81,
     "metadata": {},
     "output_type": "execute_result"
    }
   ],
   "source": [
    "df_new.skew()"
   ]
  },
  {
   "cell_type": "markdown",
   "id": "811542e6",
   "metadata": {},
   "source": [
    "Data preprocessing"
   ]
  },
  {
   "cell_type": "markdown",
   "id": "b3329ede",
   "metadata": {},
   "source": [
    "Spliting data into Target and Features:"
   ]
  },
  {
   "cell_type": "code",
   "execution_count": 89,
   "id": "99b3cb48",
   "metadata": {},
   "outputs": [],
   "source": [
    "x=df_new.drop(\"Survived\",axis=1)\n",
    "y=df_new[\"Survived\"]"
   ]
  },
  {
   "cell_type": "code",
   "execution_count": 90,
   "id": "4aab0c27",
   "metadata": {},
   "outputs": [
    {
     "data": {
      "text/html": [
       "<div>\n",
       "<style scoped>\n",
       "    .dataframe tbody tr th:only-of-type {\n",
       "        vertical-align: middle;\n",
       "    }\n",
       "\n",
       "    .dataframe tbody tr th {\n",
       "        vertical-align: top;\n",
       "    }\n",
       "\n",
       "    .dataframe thead th {\n",
       "        text-align: right;\n",
       "    }\n",
       "</style>\n",
       "<table border=\"1\" class=\"dataframe\">\n",
       "  <thead>\n",
       "    <tr style=\"text-align: right;\">\n",
       "      <th></th>\n",
       "      <th>Pclass</th>\n",
       "      <th>Sex</th>\n",
       "      <th>Age</th>\n",
       "      <th>SibSp</th>\n",
       "      <th>Parch</th>\n",
       "      <th>Fare</th>\n",
       "      <th>Embarked</th>\n",
       "    </tr>\n",
       "  </thead>\n",
       "  <tbody>\n",
       "    <tr>\n",
       "      <th>0</th>\n",
       "      <td>3</td>\n",
       "      <td>1</td>\n",
       "      <td>22.0</td>\n",
       "      <td>1.374574</td>\n",
       "      <td>-0.548637</td>\n",
       "      <td>-0.882769</td>\n",
       "      <td>2</td>\n",
       "    </tr>\n",
       "    <tr>\n",
       "      <th>1</th>\n",
       "      <td>1</td>\n",
       "      <td>0</td>\n",
       "      <td>38.0</td>\n",
       "      <td>1.374574</td>\n",
       "      <td>-0.548637</td>\n",
       "      <td>1.529038</td>\n",
       "      <td>0</td>\n",
       "    </tr>\n",
       "    <tr>\n",
       "      <th>2</th>\n",
       "      <td>3</td>\n",
       "      <td>0</td>\n",
       "      <td>26.0</td>\n",
       "      <td>-0.680931</td>\n",
       "      <td>-0.548637</td>\n",
       "      <td>-0.792444</td>\n",
       "      <td>2</td>\n",
       "    </tr>\n",
       "    <tr>\n",
       "      <th>3</th>\n",
       "      <td>1</td>\n",
       "      <td>0</td>\n",
       "      <td>35.0</td>\n",
       "      <td>1.374574</td>\n",
       "      <td>-0.548637</td>\n",
       "      <td>1.216581</td>\n",
       "      <td>2</td>\n",
       "    </tr>\n",
       "    <tr>\n",
       "      <th>4</th>\n",
       "      <td>3</td>\n",
       "      <td>1</td>\n",
       "      <td>35.0</td>\n",
       "      <td>-0.680931</td>\n",
       "      <td>-0.548637</td>\n",
       "      <td>-0.776493</td>\n",
       "      <td>2</td>\n",
       "    </tr>\n",
       "  </tbody>\n",
       "</table>\n",
       "</div>"
      ],
      "text/plain": [
       "   Pclass  Sex   Age     SibSp     Parch      Fare  Embarked\n",
       "0       3    1  22.0  1.374574 -0.548637 -0.882769         2\n",
       "1       1    0  38.0  1.374574 -0.548637  1.529038         0\n",
       "2       3    0  26.0 -0.680931 -0.548637 -0.792444         2\n",
       "3       1    0  35.0  1.374574 -0.548637  1.216581         2\n",
       "4       3    1  35.0 -0.680931 -0.548637 -0.776493         2"
      ]
     },
     "execution_count": 90,
     "metadata": {},
     "output_type": "execute_result"
    }
   ],
   "source": [
    "x.head()"
   ]
  },
  {
   "cell_type": "code",
   "execution_count": 91,
   "id": "d80ff366",
   "metadata": {},
   "outputs": [
    {
     "data": {
      "text/plain": [
       "0      0\n",
       "1      1\n",
       "2      1\n",
       "3      1\n",
       "4      0\n",
       "      ..\n",
       "886    0\n",
       "887    1\n",
       "888    0\n",
       "889    1\n",
       "890    0\n",
       "Name: Survived, Length: 864, dtype: int64"
      ]
     },
     "execution_count": 91,
     "metadata": {},
     "output_type": "execute_result"
    }
   ],
   "source": [
    "y"
   ]
  },
  {
   "cell_type": "code",
   "execution_count": 93,
   "id": "47ebfe5e",
   "metadata": {},
   "outputs": [
    {
     "data": {
      "text/plain": [
       "(864, 7)"
      ]
     },
     "execution_count": 93,
     "metadata": {},
     "output_type": "execute_result"
    }
   ],
   "source": [
    "x.shape"
   ]
  },
  {
   "cell_type": "code",
   "execution_count": 94,
   "id": "7c311208",
   "metadata": {},
   "outputs": [
    {
     "data": {
      "text/plain": [
       "(864,)"
      ]
     },
     "execution_count": 94,
     "metadata": {},
     "output_type": "execute_result"
    }
   ],
   "source": [
    "y.shape"
   ]
  },
  {
   "cell_type": "code",
   "execution_count": 95,
   "id": "bf9a339e",
   "metadata": {},
   "outputs": [
    {
     "data": {
      "text/html": [
       "<div>\n",
       "<style scoped>\n",
       "    .dataframe tbody tr th:only-of-type {\n",
       "        vertical-align: middle;\n",
       "    }\n",
       "\n",
       "    .dataframe tbody tr th {\n",
       "        vertical-align: top;\n",
       "    }\n",
       "\n",
       "    .dataframe thead th {\n",
       "        text-align: right;\n",
       "    }\n",
       "</style>\n",
       "<table border=\"1\" class=\"dataframe\">\n",
       "  <thead>\n",
       "    <tr style=\"text-align: right;\">\n",
       "      <th></th>\n",
       "      <th>Pclass</th>\n",
       "      <th>Sex</th>\n",
       "      <th>Age</th>\n",
       "      <th>SibSp</th>\n",
       "      <th>Parch</th>\n",
       "      <th>Fare</th>\n",
       "      <th>Embarked</th>\n",
       "    </tr>\n",
       "  </thead>\n",
       "  <tbody>\n",
       "    <tr>\n",
       "      <th>0</th>\n",
       "      <td>0.801719</td>\n",
       "      <td>0.733053</td>\n",
       "      <td>-0.586622</td>\n",
       "      <td>1.374574</td>\n",
       "      <td>-0.548637</td>\n",
       "      <td>-0.882769</td>\n",
       "      <td>0.572159</td>\n",
       "    </tr>\n",
       "    <tr>\n",
       "      <th>1</th>\n",
       "      <td>-1.641615</td>\n",
       "      <td>-1.364158</td>\n",
       "      <td>0.695098</td>\n",
       "      <td>1.374574</td>\n",
       "      <td>-0.548637</td>\n",
       "      <td>1.529038</td>\n",
       "      <td>-2.002556</td>\n",
       "    </tr>\n",
       "    <tr>\n",
       "      <th>2</th>\n",
       "      <td>0.801719</td>\n",
       "      <td>-1.364158</td>\n",
       "      <td>-0.266192</td>\n",
       "      <td>-0.680931</td>\n",
       "      <td>-0.548637</td>\n",
       "      <td>-0.792444</td>\n",
       "      <td>0.572159</td>\n",
       "    </tr>\n",
       "    <tr>\n",
       "      <th>3</th>\n",
       "      <td>-1.641615</td>\n",
       "      <td>-1.364158</td>\n",
       "      <td>0.454776</td>\n",
       "      <td>1.374574</td>\n",
       "      <td>-0.548637</td>\n",
       "      <td>1.216581</td>\n",
       "      <td>0.572159</td>\n",
       "    </tr>\n",
       "    <tr>\n",
       "      <th>4</th>\n",
       "      <td>0.801719</td>\n",
       "      <td>0.733053</td>\n",
       "      <td>0.454776</td>\n",
       "      <td>-0.680931</td>\n",
       "      <td>-0.548637</td>\n",
       "      <td>-0.776493</td>\n",
       "      <td>0.572159</td>\n",
       "    </tr>\n",
       "    <tr>\n",
       "      <th>...</th>\n",
       "      <td>...</td>\n",
       "      <td>...</td>\n",
       "      <td>...</td>\n",
       "      <td>...</td>\n",
       "      <td>...</td>\n",
       "      <td>...</td>\n",
       "      <td>...</td>\n",
       "    </tr>\n",
       "    <tr>\n",
       "      <th>859</th>\n",
       "      <td>-0.419948</td>\n",
       "      <td>0.733053</td>\n",
       "      <td>-0.186085</td>\n",
       "      <td>-0.680931</td>\n",
       "      <td>-0.548637</td>\n",
       "      <td>-0.279691</td>\n",
       "      <td>0.572159</td>\n",
       "    </tr>\n",
       "    <tr>\n",
       "      <th>860</th>\n",
       "      <td>-1.641615</td>\n",
       "      <td>-1.364158</td>\n",
       "      <td>-0.826945</td>\n",
       "      <td>-0.680931</td>\n",
       "      <td>-0.548637</td>\n",
       "      <td>0.607981</td>\n",
       "      <td>0.572159</td>\n",
       "    </tr>\n",
       "    <tr>\n",
       "      <th>861</th>\n",
       "      <td>0.801719</td>\n",
       "      <td>-1.364158</td>\n",
       "      <td>0.030135</td>\n",
       "      <td>1.374574</td>\n",
       "      <td>1.879004</td>\n",
       "      <td>0.345275</td>\n",
       "      <td>0.572159</td>\n",
       "    </tr>\n",
       "    <tr>\n",
       "      <th>862</th>\n",
       "      <td>-1.641615</td>\n",
       "      <td>0.733053</td>\n",
       "      <td>-0.266192</td>\n",
       "      <td>-0.680931</td>\n",
       "      <td>-0.548637</td>\n",
       "      <td>0.607981</td>\n",
       "      <td>-2.002556</td>\n",
       "    </tr>\n",
       "    <tr>\n",
       "      <th>863</th>\n",
       "      <td>0.801719</td>\n",
       "      <td>0.733053</td>\n",
       "      <td>0.214453</td>\n",
       "      <td>-0.680931</td>\n",
       "      <td>-0.548637</td>\n",
       "      <td>-0.815167</td>\n",
       "      <td>-0.715199</td>\n",
       "    </tr>\n",
       "  </tbody>\n",
       "</table>\n",
       "<p>864 rows × 7 columns</p>\n",
       "</div>"
      ],
      "text/plain": [
       "       Pclass       Sex       Age     SibSp     Parch      Fare  Embarked\n",
       "0    0.801719  0.733053 -0.586622  1.374574 -0.548637 -0.882769  0.572159\n",
       "1   -1.641615 -1.364158  0.695098  1.374574 -0.548637  1.529038 -2.002556\n",
       "2    0.801719 -1.364158 -0.266192 -0.680931 -0.548637 -0.792444  0.572159\n",
       "3   -1.641615 -1.364158  0.454776  1.374574 -0.548637  1.216581  0.572159\n",
       "4    0.801719  0.733053  0.454776 -0.680931 -0.548637 -0.776493  0.572159\n",
       "..        ...       ...       ...       ...       ...       ...       ...\n",
       "859 -0.419948  0.733053 -0.186085 -0.680931 -0.548637 -0.279691  0.572159\n",
       "860 -1.641615 -1.364158 -0.826945 -0.680931 -0.548637  0.607981  0.572159\n",
       "861  0.801719 -1.364158  0.030135  1.374574  1.879004  0.345275  0.572159\n",
       "862 -1.641615  0.733053 -0.266192 -0.680931 -0.548637  0.607981 -2.002556\n",
       "863  0.801719  0.733053  0.214453 -0.680931 -0.548637 -0.815167 -0.715199\n",
       "\n",
       "[864 rows x 7 columns]"
      ]
     },
     "execution_count": 95,
     "metadata": {},
     "output_type": "execute_result"
    }
   ],
   "source": [
    "from sklearn.preprocessing import StandardScaler\n",
    "ss=StandardScaler()\n",
    "x_scaled=ss.fit_transform(x)\n",
    "x=pd.DataFrame(x_scaled,columns=x.columns)\n",
    "x"
   ]
  },
  {
   "cell_type": "markdown",
   "id": "10f9acc9",
   "metadata": {},
   "source": [
    "Creating Models"
   ]
  },
  {
   "cell_type": "code",
   "execution_count": 113,
   "id": "28b2319c",
   "metadata": {},
   "outputs": [],
   "source": [
    "from sklearn.linear_model import LogisticRegression\n",
    "from sklearn.tree import DecisionTreeClassifier\n",
    "from sklearn.neighbors import KNeighborsClassifier\n",
    "from sklearn.svm import SVC\n",
    "from sklearn.naive_bayes import GaussianNB\n",
    "from sklearn.ensemble import RandomForestClassifier\n",
    "from sklearn.ensemble import AdaBoostClassifier\n",
    "from sklearn.ensemble import GradientBoostingClassifier\n",
    "from sklearn.model_selection import train_test_split,GridSearchCV,cross_val_score\n",
    "from sklearn.metrics import accuracy_score,classification_report,confusion_matrix,roc_auc_score"
   ]
  },
  {
   "cell_type": "code",
   "execution_count": 114,
   "id": "3f9c36cb",
   "metadata": {},
   "outputs": [],
   "source": [
    "def max_accuracy_score(clf,x,y):\n",
    "    max_accuracy=0\n",
    "    for i in range(42,100):\n",
    "        x_train,x_test,y_train,y_test=train_test_split(x,y,test_size=.20,random_state=i,stratify=y)\n",
    "        clf.fit(x_train,y_train)\n",
    "        pred=clf.predict(x_test)\n",
    "        accuracy_check=accuracy_score(y_test,pred)\n",
    "        if accuracy_check>max_accuracy:\n",
    "            max_accuracy=accuracy_check\n",
    "            final_r=i\n",
    "    print('max Accuracy score corresponding to',final_r,'is',max_accuracy)\n",
    "    print('\\n')\n",
    "    print('cross validation score',cross_val_score(clf,x,y,scoring='accuracy').mean())\n",
    "    print('\\n')\n",
    "    print('Standard Deviation',cross_val_score(clf,x,y,scoring='accuracy').std())\n",
    "    print('\\n')\n",
    "    print('Training accuracy',clf.score(x_train,y_train))\n",
    "    print('\\n')\n",
    "    print('Test Accuracy',clf.score(x_test,y_test))\n",
    "    print('\\n')\n",
    "    print('Confusion Matrix',confusion_matrix(y_test,pred))\n",
    "    print('\\n')\n",
    "    print('Classification Report',classification_report(y_test,pred))\n",
    "    print('\\n')\n",
    "    print('Roc_auc Score',roc_auc_score(y_test,pred))\n",
    "    return final_r"
   ]
  },
  {
   "cell_type": "markdown",
   "id": "77f1b0d5",
   "metadata": {},
   "source": [
    "Logistic Regression"
   ]
  },
  {
   "cell_type": "code",
   "execution_count": 115,
   "id": "bb0f3942",
   "metadata": {},
   "outputs": [
    {
     "name": "stdout",
     "output_type": "stream",
     "text": [
      "max Accuracy score corresponding to 77 is 0.8439306358381503\n",
      "\n",
      "\n",
      "cross validation score 0.7916789891114397\n",
      "\n",
      "\n",
      "Standard Deviation 0.00785810989893803\n",
      "\n",
      "\n",
      "Training accuracy 0.8017366136034733\n",
      "\n",
      "\n",
      "Test Accuracy 0.7861271676300579\n",
      "\n",
      "\n",
      "Confusion Matrix [[86 22]\n",
      " [15 50]]\n",
      "\n",
      "\n",
      "Classification Report               precision    recall  f1-score   support\n",
      "\n",
      "           0       0.85      0.80      0.82       108\n",
      "           1       0.69      0.77      0.73        65\n",
      "\n",
      "    accuracy                           0.79       173\n",
      "   macro avg       0.77      0.78      0.78       173\n",
      "weighted avg       0.79      0.79      0.79       173\n",
      "\n",
      "\n",
      "\n",
      "Roc_auc Score 0.7827635327635327\n"
     ]
    },
    {
     "data": {
      "text/plain": [
       "77"
      ]
     },
     "execution_count": 115,
     "metadata": {},
     "output_type": "execute_result"
    }
   ],
   "source": [
    "lg=LogisticRegression()\n",
    "max_accuracy_score(lg,x,y)"
   ]
  },
  {
   "cell_type": "markdown",
   "id": "b1ab27c8",
   "metadata": {},
   "source": [
    "DecisionTreeClassifier"
   ]
  },
  {
   "cell_type": "code",
   "execution_count": 116,
   "id": "f6d8ab9c",
   "metadata": {
    "scrolled": true
   },
   "outputs": [
    {
     "name": "stdout",
     "output_type": "stream",
     "text": [
      "max Accuracy score corresponding to 69 is 0.8208092485549133\n",
      "\n",
      "\n",
      "cross validation score 0.7743379486490121\n",
      "\n",
      "\n",
      "Standard Deviation 0.02782869421317759\n",
      "\n",
      "\n",
      "Training accuracy 0.9826338639652678\n",
      "\n",
      "\n",
      "Test Accuracy 0.7398843930635838\n",
      "\n",
      "\n",
      "Confusion Matrix [[79 29]\n",
      " [16 49]]\n",
      "\n",
      "\n",
      "Classification Report               precision    recall  f1-score   support\n",
      "\n",
      "           0       0.83      0.73      0.78       108\n",
      "           1       0.63      0.75      0.69        65\n",
      "\n",
      "    accuracy                           0.74       173\n",
      "   macro avg       0.73      0.74      0.73       173\n",
      "weighted avg       0.76      0.74      0.74       173\n",
      "\n",
      "\n",
      "\n",
      "Roc_auc Score 0.7426638176638176\n"
     ]
    },
    {
     "data": {
      "text/plain": [
       "69"
      ]
     },
     "execution_count": 116,
     "metadata": {},
     "output_type": "execute_result"
    }
   ],
   "source": [
    "dt=DecisionTreeClassifier()\n",
    "max_accuracy_score(dt,x,y)"
   ]
  },
  {
   "cell_type": "markdown",
   "id": "c7493fd7",
   "metadata": {},
   "source": [
    "K-Nearest Neighbour"
   ]
  },
  {
   "cell_type": "code",
   "execution_count": 117,
   "id": "2a4b2562",
   "metadata": {},
   "outputs": [
    {
     "name": "stdout",
     "output_type": "stream",
     "text": [
      "max Accuracy score corresponding to 83 is 0.8670520231213873\n",
      "\n",
      "\n",
      "cross validation score 0.8159967737599139\n",
      "\n",
      "\n",
      "Standard Deviation 0.03265604277186206\n",
      "\n",
      "\n",
      "Training accuracy 0.8639652677279306\n",
      "\n",
      "\n",
      "Test Accuracy 0.815028901734104\n",
      "\n",
      "\n",
      "Confusion Matrix [[94 14]\n",
      " [18 47]]\n",
      "\n",
      "\n",
      "Classification Report               precision    recall  f1-score   support\n",
      "\n",
      "           0       0.84      0.87      0.85       108\n",
      "           1       0.77      0.72      0.75        65\n",
      "\n",
      "    accuracy                           0.82       173\n",
      "   macro avg       0.80      0.80      0.80       173\n",
      "weighted avg       0.81      0.82      0.81       173\n",
      "\n",
      "\n",
      "\n",
      "Roc_auc Score 0.7967236467236468\n"
     ]
    },
    {
     "data": {
      "text/plain": [
       "83"
      ]
     },
     "execution_count": 117,
     "metadata": {},
     "output_type": "execute_result"
    }
   ],
   "source": [
    "knn=KNeighborsClassifier()\n",
    "max_accuracy_score(knn,x,y)"
   ]
  },
  {
   "cell_type": "markdown",
   "id": "5fa891bc",
   "metadata": {},
   "source": [
    "Naive Bayes"
   ]
  },
  {
   "cell_type": "code",
   "execution_count": 119,
   "id": "bf28434f",
   "metadata": {},
   "outputs": [
    {
     "name": "stdout",
     "output_type": "stream",
     "text": [
      "max Accuracy score corresponding to 80 is 0.8554913294797688\n",
      "\n",
      "\n",
      "cross validation score 0.7604382309450195\n",
      "\n",
      "\n",
      "Standard Deviation 0.0488934470459976\n",
      "\n",
      "\n",
      "Training accuracy 0.7800289435600579\n",
      "\n",
      "\n",
      "Test Accuracy 0.7456647398843931\n",
      "\n",
      "\n",
      "Confusion Matrix [[77 31]\n",
      " [13 52]]\n",
      "\n",
      "\n",
      "Classification Report               precision    recall  f1-score   support\n",
      "\n",
      "           0       0.86      0.71      0.78       108\n",
      "           1       0.63      0.80      0.70        65\n",
      "\n",
      "    accuracy                           0.75       173\n",
      "   macro avg       0.74      0.76      0.74       173\n",
      "weighted avg       0.77      0.75      0.75       173\n",
      "\n",
      "\n",
      "\n",
      "Roc_auc Score 0.7564814814814815\n"
     ]
    },
    {
     "data": {
      "text/plain": [
       "80"
      ]
     },
     "execution_count": 119,
     "metadata": {},
     "output_type": "execute_result"
    }
   ],
   "source": [
    "gnb=GaussianNB()\n",
    "max_accuracy_score(gnb,x,y)"
   ]
  },
  {
   "cell_type": "markdown",
   "id": "db60db34",
   "metadata": {},
   "source": [
    "Support Vector Classifier"
   ]
  },
  {
   "cell_type": "code",
   "execution_count": 120,
   "id": "1a56b6ca",
   "metadata": {},
   "outputs": [
    {
     "name": "stdout",
     "output_type": "stream",
     "text": [
      "max Accuracy score corresponding to 73 is 0.8728323699421965\n",
      "\n",
      "\n",
      "cross validation score 0.8136913563651029\n",
      "\n",
      "\n",
      "Standard Deviation 0.01533419469488617\n",
      "\n",
      "\n",
      "Training accuracy 0.8379160636758322\n",
      "\n",
      "\n",
      "Test Accuracy 0.791907514450867\n",
      "\n",
      "\n",
      "Confusion Matrix [[92 16]\n",
      " [20 45]]\n",
      "\n",
      "\n",
      "Classification Report               precision    recall  f1-score   support\n",
      "\n",
      "           0       0.82      0.85      0.84       108\n",
      "           1       0.74      0.69      0.71        65\n",
      "\n",
      "    accuracy                           0.79       173\n",
      "   macro avg       0.78      0.77      0.78       173\n",
      "weighted avg       0.79      0.79      0.79       173\n",
      "\n",
      "\n",
      "\n",
      "Roc_auc Score 0.7720797720797721\n"
     ]
    },
    {
     "data": {
      "text/plain": [
       "73"
      ]
     },
     "execution_count": 120,
     "metadata": {},
     "output_type": "execute_result"
    }
   ],
   "source": [
    "svc=SVC()\n",
    "max_accuracy_score(svc,x,y)"
   ]
  },
  {
   "cell_type": "markdown",
   "id": "0f68d170",
   "metadata": {},
   "source": [
    "Random Forest Classifier"
   ]
  },
  {
   "cell_type": "code",
   "execution_count": 121,
   "id": "65c64ad6",
   "metadata": {},
   "outputs": [
    {
     "name": "stdout",
     "output_type": "stream",
     "text": [
      "max Accuracy score corresponding to 77 is 0.8554913294797688\n",
      "\n",
      "\n",
      "cross validation score 0.806734776179594\n",
      "\n",
      "\n",
      "Standard Deviation 0.024956661606584576\n",
      "\n",
      "\n",
      "Training accuracy 0.9826338639652678\n",
      "\n",
      "\n",
      "Test Accuracy 0.7745664739884393\n",
      "\n",
      "\n",
      "Confusion Matrix [[87 21]\n",
      " [18 47]]\n",
      "\n",
      "\n",
      "Classification Report               precision    recall  f1-score   support\n",
      "\n",
      "           0       0.83      0.81      0.82       108\n",
      "           1       0.69      0.72      0.71        65\n",
      "\n",
      "    accuracy                           0.77       173\n",
      "   macro avg       0.76      0.76      0.76       173\n",
      "weighted avg       0.78      0.77      0.78       173\n",
      "\n",
      "\n",
      "\n",
      "Roc_auc Score 0.7643162393162394\n"
     ]
    },
    {
     "data": {
      "text/plain": [
       "77"
      ]
     },
     "execution_count": 121,
     "metadata": {},
     "output_type": "execute_result"
    }
   ],
   "source": [
    "rf=RandomForestClassifier()\n",
    "max_accuracy_score(rf,x,y)"
   ]
  },
  {
   "cell_type": "markdown",
   "id": "4e583567",
   "metadata": {},
   "source": [
    "Gradient Boost Classifier"
   ]
  },
  {
   "cell_type": "code",
   "execution_count": 122,
   "id": "1f2d3612",
   "metadata": {},
   "outputs": [
    {
     "name": "stdout",
     "output_type": "stream",
     "text": [
      "max Accuracy score corresponding to 80 is 0.8728323699421965\n",
      "\n",
      "\n",
      "cross validation score 0.8125151230004033\n",
      "\n",
      "\n",
      "Standard Deviation 0.018349688572742877\n",
      "\n",
      "\n",
      "Training accuracy 0.9088277858176556\n",
      "\n",
      "\n",
      "Test Accuracy 0.815028901734104\n",
      "\n",
      "\n",
      "Confusion Matrix [[95 13]\n",
      " [19 46]]\n",
      "\n",
      "\n",
      "Classification Report               precision    recall  f1-score   support\n",
      "\n",
      "           0       0.83      0.88      0.86       108\n",
      "           1       0.78      0.71      0.74        65\n",
      "\n",
      "    accuracy                           0.82       173\n",
      "   macro avg       0.81      0.79      0.80       173\n",
      "weighted avg       0.81      0.82      0.81       173\n",
      "\n",
      "\n",
      "\n",
      "Roc_auc Score 0.7936609686609688\n"
     ]
    },
    {
     "data": {
      "text/plain": [
       "80"
      ]
     },
     "execution_count": 122,
     "metadata": {},
     "output_type": "execute_result"
    }
   ],
   "source": [
    "gbc=GradientBoostingClassifier()\n",
    "max_accuracy_score(gbc,x,y)"
   ]
  },
  {
   "cell_type": "markdown",
   "id": "921a1b97",
   "metadata": {},
   "source": [
    "It is clear that Gradient Boosting Classifier if our best model because the difference between accuracy score and Cross validation score is minimum which shows that our Model is not overfit and best among all."
   ]
  },
  {
   "cell_type": "markdown",
   "id": "32c75ec0",
   "metadata": {},
   "source": [
    "Hyperparameter Tuning of Gradient Boosting Classifier"
   ]
  },
  {
   "cell_type": "code",
   "execution_count": 127,
   "id": "5044f8fe",
   "metadata": {},
   "outputs": [],
   "source": [
    "from sklearn.model_selection import GridSearchCV\n",
    "from sklearn.metrics import precision_score, recall_score, make_scorer"
   ]
  },
  {
   "cell_type": "code",
   "execution_count": 128,
   "id": "1fa01972",
   "metadata": {},
   "outputs": [],
   "source": [
    "gb=GradientBoostingClassifier(random_state=42)"
   ]
  },
  {
   "cell_type": "code",
   "execution_count": 129,
   "id": "845af8e4",
   "metadata": {},
   "outputs": [],
   "source": [
    "# Creating Parameter List to pass in Grid SearchCV\n",
    "\n",
    "parameters = {'max_features': ['auto','sqrt','log2'],\n",
    "              'max_depth' : [4,5,6,7,8],\n",
    "              'criterion' :['gini','entropy']}"
   ]
  },
  {
   "cell_type": "code",
   "execution_count": 130,
   "id": "f0a7eb4f",
   "metadata": {},
   "outputs": [
    {
     "data": {
      "text/plain": [
       "{'criterion': 'entropy', 'max_depth': 5, 'max_features': 'log2'}"
      ]
     },
     "execution_count": 130,
     "metadata": {},
     "output_type": "execute_result"
    }
   ],
   "source": [
    "gcv=GridSearchCV(RandomForestClassifier(),parameters,cv=5,scoring=\"accuracy\")\n",
    "gcv.fit(x_train,y_train)\n",
    "gcv.best_params_"
   ]
  },
  {
   "cell_type": "code",
   "execution_count": 132,
   "id": "c967919e",
   "metadata": {},
   "outputs": [
    {
     "name": "stdout",
     "output_type": "stream",
     "text": [
      "\n",
      "\n",
      "Accuracy Score 0.861271676300578\n",
      "\n",
      "\n",
      "Confusion Matrix\n",
      "[[110   8]\n",
      " [ 16  39]]\n",
      "\n",
      "\n",
      "Classification Report\n",
      "              precision    recall  f1-score   support\n",
      "\n",
      "           0       0.87      0.93      0.90       118\n",
      "           1       0.83      0.71      0.76        55\n",
      "\n",
      "    accuracy                           0.86       173\n",
      "   macro avg       0.85      0.82      0.83       173\n",
      "weighted avg       0.86      0.86      0.86       173\n",
      "\n",
      "\n",
      "\n",
      "Roc_auc Score 0.8206471494607086\n"
     ]
    }
   ],
   "source": [
    "gradient=GradientBoostingClassifier(learning_rate=.01,loss='deviance',max_depth=10,max_features=4,n_estimators=50)\n",
    "gradient.fit(x_train,y_train)\n",
    "pred=gradient.predict(x_test)\n",
    "print('\\n')\n",
    "print('Accuracy Score',accuracy_score(y_test,pred))\n",
    "print('\\n')\n",
    "print('Confusion Matrix')\n",
    "print(confusion_matrix(y_test,pred))\n",
    "print('\\n')\n",
    "print('Classification Report')\n",
    "print(classification_report(y_test,pred))\n",
    "print('\\n')\n",
    "print('Roc_auc Score',roc_auc_score(y_test,pred))"
   ]
  },
  {
   "cell_type": "markdown",
   "id": "157bf98c",
   "metadata": {},
   "source": [
    "We have improved our accuracy score so we will save this as our best model."
   ]
  },
  {
   "cell_type": "markdown",
   "id": "1bc53d0b",
   "metadata": {},
   "source": [
    "Saving Model"
   ]
  },
  {
   "cell_type": "code",
   "execution_count": 133,
   "id": "7205515d",
   "metadata": {},
   "outputs": [
    {
     "data": {
      "text/plain": [
       "['titanic_grad.pkl']"
      ]
     },
     "execution_count": 133,
     "metadata": {},
     "output_type": "execute_result"
    }
   ],
   "source": [
    "import joblib\n",
    "joblib.dump(gradient,'titanic_grad.pkl')"
   ]
  },
  {
   "cell_type": "markdown",
   "id": "855f8b19",
   "metadata": {},
   "source": [
    "Loading Model"
   ]
  },
  {
   "cell_type": "code",
   "execution_count": 134,
   "id": "e0ef9519",
   "metadata": {},
   "outputs": [],
   "source": [
    "loaded_model=joblib.load('titanic_grad.pkl')\n",
    "prediction=loaded_model.predict(x_test)"
   ]
  },
  {
   "cell_type": "code",
   "execution_count": 135,
   "id": "2dc82a95",
   "metadata": {},
   "outputs": [
    {
     "data": {
      "text/plain": [
       "array([0, 0, 0, 0, 0, 0, 0, 0, 0, 1, 0, 0, 0, 0, 1, 1, 1, 0, 0, 0, 0, 0,\n",
       "       1, 0, 1, 0, 0, 0, 1, 1, 0, 0, 0, 0, 0, 0, 1, 0, 0, 0, 0, 0, 1, 1,\n",
       "       0, 0, 1, 0, 0, 0, 0, 0, 0, 0, 1, 0, 0, 1, 0, 0, 0, 1, 0, 0, 0, 0,\n",
       "       1, 0, 0, 0, 1, 0, 0, 0, 1, 0, 1, 0, 1, 0, 0, 0, 0, 0, 1, 0, 1, 0,\n",
       "       0, 1, 1, 0, 0, 0, 0, 1, 0, 1, 1, 1, 0, 0, 0, 1, 0, 0, 0, 0, 0, 0,\n",
       "       0, 1, 0, 0, 1, 0, 0, 1, 1, 0, 0, 0, 0, 0, 0, 1, 1, 0, 1, 1, 0, 0,\n",
       "       0, 0, 0, 1, 0, 1, 0, 0, 0, 0, 0, 1, 0, 1, 0, 0, 0, 0, 1, 0, 0, 0,\n",
       "       0, 0, 0, 1, 0, 0, 0, 0, 0, 1, 0, 0, 1, 1, 0, 0, 0, 0, 1],\n",
       "      dtype=int64)"
      ]
     },
     "execution_count": 135,
     "metadata": {},
     "output_type": "execute_result"
    }
   ],
   "source": [
    "prediction"
   ]
  },
  {
   "cell_type": "code",
   "execution_count": null,
   "id": "2d4e48a5",
   "metadata": {},
   "outputs": [],
   "source": []
  }
 ],
 "metadata": {
  "kernelspec": {
   "display_name": "Python 3 (ipykernel)",
   "language": "python",
   "name": "python3"
  },
  "language_info": {
   "codemirror_mode": {
    "name": "ipython",
    "version": 3
   },
   "file_extension": ".py",
   "mimetype": "text/x-python",
   "name": "python",
   "nbconvert_exporter": "python",
   "pygments_lexer": "ipython3",
   "version": "3.9.7"
  }
 },
 "nbformat": 4,
 "nbformat_minor": 5
}
